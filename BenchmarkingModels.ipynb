{
 "cells": [
  {
   "cell_type": "markdown",
   "metadata": {
    "id": "NGz2Eq7C_Lxg"
   },
   "source": [
    "**<center><font size = 7> Garbage Classifier using Xception, DenseNet121, InceptionV3,InceptionResNetV2, VGG16 and VGG19 </font></center>**\n",
    " \n",
    "\n",
    "\n"
   ]
  },
  {
   "cell_type": "code",
   "execution_count": 2,
   "metadata": {
    "execution": {
     "iopub.execute_input": "2024-12-23T10:39:30.376048Z",
     "iopub.status.busy": "2024-12-23T10:39:30.375717Z",
     "iopub.status.idle": "2024-12-23T10:39:30.839381Z",
     "shell.execute_reply": "2024-12-23T10:39:30.838641Z",
     "shell.execute_reply.started": "2024-12-23T10:39:30.376022Z"
    },
    "id": "dnanY0m53jv_",
    "trusted": true
   },
   "outputs": [],
   "source": [
    "# Gerekli kütüphaneleri tanımlıyoruz\n",
    "import numpy as np  \n",
    "import pandas as pd  \n",
    "import matplotlib.pyplot as plt  \n",
    "import seaborn as sns  \n",
    "import tensorflow  \n",
    "\n",
    "from tensorflow.keras.preprocessing.image import ImageDataGenerator  # Veri artırımı (Data Augmentation) yaparak görüntüleri farklı varyasyonlarla çoğaltır\n",
    "from tensorflow.keras.applications import Xception  # Kullanılacak yapay sinir ağı modeli\n",
    "from tensorflow.keras.layers import Flatten, Dense, Dropout  # Yapay sinir ağı katmanlarının yapı taşları\n",
    "from tensorflow.keras.models import Sequential  # Katmanları sıralı bir şekilde eklemek için kullanılan model oluşturucu\n",
    "from tensorflow.keras.optimizers import RMSprop, SGD, Adam, Nadam  # Optimizasyon algoritmaları\n",
    "from tensorflow.keras.regularizers import l1, l2, L1L2  # Yapay sinir ağlarında düzenleme terimleri\n",
    "from tensorflow.keras.callbacks import EarlyStopping, ModelCheckpoint  # Eğitim sürecini kontrol etmek ve modelin durumunu kaydetmek için kullanacağız\n",
    "\n",
    "from glob import glob  # Dosya yollarını toplamak ve üzerinde işlem yapmak için kullanılır\n",
    "import os  # İşletim sistemi ile ilgili işlemleri gerçekleştirmek için kullanılan kütüphane\n",
    "import random  # Rastgele seçimler yapmak için kullanılan kütüphane\n",
    "import shutil  # Dosya ve dizin işlemleri için kullanılan \n",
    "\n",
    "# Tekrar üretilebilirlik sağlamak için rastgelelik tohumları belirleniyor\n",
    "tensorflow.random.set_seed(0)  # TensorFlow için rastgelelik tohumu \n",
    "np.random.seed(0)  # NumPy için rastgelelik tohumu \n"
   ]
  },
  {
   "cell_type": "markdown",
   "metadata": {
    "id": "x91lqarwamim"
   },
   "source": [
    "# *Veri Ön İşleme Aşamaları*"
   ]
  },
  {
   "cell_type": "code",
   "execution_count": 4,
   "metadata": {
    "execution": {
     "iopub.execute_input": "2024-12-23T10:39:37.293042Z",
     "iopub.status.busy": "2024-12-23T10:39:37.292681Z",
     "iopub.status.idle": "2024-12-23T10:39:37.297708Z",
     "shell.execute_reply": "2024-12-23T10:39:37.296584Z",
     "shell.execute_reply.started": "2024-12-23T10:39:37.293004Z"
    },
    "id": "K6mjT-fFNnGi",
    "trusted": true
   },
   "outputs": [],
   "source": [
    "path = \"/kaggle/input/split-garbage-dataset/\" # Veri kümemizin yolunu veriyoruz"
   ]
  },
  {
   "cell_type": "code",
   "execution_count": null,
   "metadata": {
    "execution": {
     "iopub.execute_input": "2024-12-22T13:55:47.475652Z",
     "iopub.status.busy": "2024-12-22T13:55:47.474688Z",
     "iopub.status.idle": "2024-12-22T13:55:47.482168Z",
     "shell.execute_reply": "2024-12-22T13:55:47.481109Z",
     "shell.execute_reply.started": "2024-12-22T13:55:47.475607Z"
    },
    "id": "wr00S0wd3jwD",
    "trusted": true
   },
   "outputs": [],
   "source": [
    "train_datagen = ImageDataGenerator( # Veri ön işleme adımları\n",
    "    rescale = 1./255,  # Normalize\n",
    "    rotation_range = 20,  # 20 derecelik açıyla döndürme işlemleri\n",
    "    width_shift_range = 0.2, # Görüntünün %20 kadarlık kısmını yatayda kaydırır\n",
    "    height_shift_range = 0.2, # Görüntünün %20 kadarlık kısmını dikeyde kaydırır\n",
    "    horizontal_flip = True,  # Görüntünün yatayda rastgele bir şekilde ters çevrilmesini sağlar\n",
    "    vertical_flip = True, # Görüntünün dikeyde rastgele bir şekilde ters çevrilmesini sağlar\n",
    "    fill_mode = 'nearest') # Görüntüler kaydırıldığında oluşan boşluklar komşu piksel değerleriyle doldurulur\n",
    " \n",
    "validation_datagen = ImageDataGenerator(rescale = 1./255) # Validation verileri normalize edilir\n",
    "test_datagen = ImageDataGenerator(rescale = 1./255)  # Test verileri normalize edilir"
   ]
  },
  {
   "cell_type": "code",
   "execution_count": null,
   "metadata": {
    "execution": {
     "iopub.execute_input": "2024-12-22T13:55:49.862615Z",
     "iopub.status.busy": "2024-12-22T13:55:49.862265Z",
     "iopub.status.idle": "2024-12-22T13:55:52.964694Z",
     "shell.execute_reply": "2024-12-22T13:55:52.963798Z",
     "shell.execute_reply.started": "2024-12-22T13:55:49.862587Z"
    },
    "id": "4bUWrbnb3jwE",
    "outputId": "a58557d8-ba64-433a-9d82-64915d3b5350",
    "trusted": true
   },
   "outputs": [],
   "source": [
    "img_shape = (299, 299, 3)  # Giriş görüntüsünün genişlik, yükseklik ve renk kanalları(RGB) \n",
    "\n",
    "# Veri grupları için batch size değerleri\n",
    "train_batch_size = 256  # Eğitim verileri için gruplama boyutu\n",
    "validation_batch_size = 32  # Doğrulama verileri için gruplama boyutu\n",
    "\n",
    "# Test veri setinin uzunluğunu hesaplıyoruz\n",
    "len_test = glob('/kaggle/input/split-garbage-dataset/test/*/*')  # Test setindeki dosyaların listesi alınır\n",
    "test_generator_length = len(len_test)  # Test setindeki toplam dosya sayısı\n",
    "\n",
    "# Eğitim verisi oluşturucu\n",
    "train_generator = train_datagen.flow_from_directory(\n",
    "    path + 'train',  # Eğitim verisinin bulunduğu dizin\n",
    "    target_size=(img_shape[0], img_shape[1]),  # Hedef boyut olarak img_shape kullanılıyor\n",
    "    batch_size=train_batch_size,  # Eğitim için batch boyutu\n",
    "    class_mode='categorical'  # Sınıflar arası dağılımı kategorik şekilde ayarlıyoruz\n",
    ")\n",
    "\n",
    "# Doğrulama verisi oluşturucu\n",
    "validation_generator = validation_datagen.flow_from_directory(\n",
    "    path + 'valid',  # Doğrulama verisinin bulunduğu dizin\n",
    "    target_size=(img_shape[0], img_shape[1]),  # Hedef boyut olarak img_shape kullanılıyor\n",
    "    batch_size=validation_batch_size,  # Doğrulama için batch boyutu\n",
    "    class_mode='categorical',  # Sınıflar arası dağılımı kategorik şekilde ayarlıyoruz\n",
    "    shuffle=False  # Verileri karıştırmıyoruz\n",
    ")\n",
    "\n",
    "# Test verisi oluşturucu\n",
    "test_generator = test_datagen.flow_from_directory(\n",
    "    path + 'test',  # Test verisinin bulunduğu dizin\n",
    "    target_size=(img_shape[0], img_shape[1]),  # Hedef boyut olarak img_shape kullanılıyor\n",
    "    batch_size=validation_batch_size,  # Test için batch boyutu\n",
    "    class_mode='categorical',  # Sınıflar arası dağılımı kategorik şekilde ayarlıyoruz\n",
    "    shuffle=False  # Verileri karıştırmıyoruz\n",
    ")\n",
    "\n",
    "# Test veri setinin tamamını bir seferde yüklemek için test_val oluşturucu\n",
    "test_val = test_datagen.flow_from_directory(\n",
    "    path + 'test',  # Test verisinin bulunduğu dizin\n",
    "    target_size=(img_shape[0], img_shape[1]),  # Hedef boyut olarak img_shape kullanılıyor\n",
    "    batch_size=len_test,  # Batch boyutunu test veri setinin toplam uzunluğu olarak ayarlıyoruz\n",
    "    class_mode='categorical',  # Sınıflar arası dağılımı kategorik şekilde ayarlıyoruz\n",
    "    shuffle=False  # Verileri karıştırmıyoruz\n",
    ")\n"
   ]
  },
  {
   "cell_type": "markdown",
   "metadata": {
    "id": "F37lAU_L3jwE"
   },
   "source": [
    "Verilerimizi model için hazır hale getirdik Xception Modelini oluşturmaya başlayabiliriz"
   ]
  },
  {
   "cell_type": "markdown",
   "metadata": {
    "id": "kFZut6bd3jwF"
   },
   "source": [
    "# **Xception Modeli**"
   ]
  },
  {
   "cell_type": "code",
   "execution_count": null,
   "metadata": {
    "execution": {
     "iopub.execute_input": "2024-12-22T13:55:52.967090Z",
     "iopub.status.busy": "2024-12-22T13:55:52.966465Z",
     "iopub.status.idle": "2024-12-22T13:55:57.600221Z",
     "shell.execute_reply": "2024-12-22T13:55:57.599531Z",
     "shell.execute_reply.started": "2024-12-22T13:55:52.967047Z"
    },
    "id": "cNCdM9wB3jwF",
    "outputId": "936c6f1c-db5d-49a8-f1c2-1ff92ef6ffbf",
    "trusted": true
   },
   "outputs": [],
   "source": [
    "xception = Xception(weights = 'imagenet', # ImageNet üzerinde eğitilmiş Xception adlı mimariyi alıyoruz\n",
    "            include_top = False, # Son katman olan output katmanını almıyoruz biz kendi çıktı katmanımızı ekleyeceğiz\n",
    "           input_shape = img_shape)  # Girdi boyutları\n",
    "#input_shape=(224,224) olurdu normalde ama biz onu aşağıda belirteceğiz, burada sadece saf Xception'u çağırıyoruz"
   ]
  },
  {
   "cell_type": "code",
   "execution_count": null,
   "metadata": {
    "collapsed": true,
    "execution": {
     "iopub.execute_input": "2024-12-22T13:24:54.637378Z",
     "iopub.status.busy": "2024-12-22T13:24:54.637032Z",
     "iopub.status.idle": "2024-12-22T13:24:54.656571Z",
     "shell.execute_reply": "2024-12-22T13:24:54.655704Z",
     "shell.execute_reply.started": "2024-12-22T13:24:54.637350Z"
    },
    "id": "zGwwm_Jh3jwG",
    "jupyter": {
     "outputs_hidden": true
    },
    "outputId": "fdf44518-8ce8-4cdc-adfc-9670167c1c6e",
    "trusted": true
   },
   "outputs": [],
   "source": [
    "print(xception.summary())   #  Xception'a ait olan katmanları görüyoruz"
   ]
  },
  {
   "cell_type": "code",
   "execution_count": null,
   "metadata": {
    "execution": {
     "iopub.execute_input": "2024-12-22T13:56:04.673573Z",
     "iopub.status.busy": "2024-12-22T13:56:04.672768Z",
     "iopub.status.idle": "2024-12-22T13:56:04.680536Z",
     "shell.execute_reply": "2024-12-22T13:56:04.679572Z",
     "shell.execute_reply.started": "2024-12-22T13:56:04.673540Z"
    },
    "id": "3Xa61Rjv3jwG",
    "trusted": true
   },
   "outputs": [],
   "source": [
    "for layer in xception.layers[:-3]:   #  Xception modeline ait olan son 3 katmanı eğitime dahil etmiyoruz \n",
    "    layer.trainable = False     #  son 3 katmanı biz ekleyeceğiz"
   ]
  },
  {
   "cell_type": "code",
   "execution_count": null,
   "metadata": {
    "execution": {
     "iopub.execute_input": "2024-12-22T13:56:06.484764Z",
     "iopub.status.busy": "2024-12-22T13:56:06.484053Z",
     "iopub.status.idle": "2024-12-22T13:56:06.817470Z",
     "shell.execute_reply": "2024-12-22T13:56:06.816713Z",
     "shell.execute_reply.started": "2024-12-22T13:56:06.484731Z"
    },
    "id": "Kgp089Tc3jwH",
    "trusted": true
   },
   "outputs": [],
   "source": [
    "model = Sequential() #  Modelimizi çağırdık\n",
    "\n",
    "model.add(xception) # Modele Xception'un son halini çağırdık\n",
    "                    \n",
    "# Xception'nın üzerine kendi katmanlarımızı ekliyoruz\n",
    "model.add(Flatten()) # Vektörleri tek boyuta indirgiyoruz\n",
    "model.add(Dense(1024, activation='relu')) #1024 nöron ekliyoruz\n",
    "model.add(Dropout(0.2)) # overfitting'i önlemek için dropout uyguluyoruz \n",
    "model.add(Dense(6,activation='softmax')) #son olarak sınıflanıdırma katmanımızı ekliyoruz"
   ]
  },
  {
   "cell_type": "code",
   "execution_count": null,
   "metadata": {
    "execution": {
     "iopub.execute_input": "2024-12-22T13:56:08.632579Z",
     "iopub.status.busy": "2024-12-22T13:56:08.631938Z",
     "iopub.status.idle": "2024-12-22T13:56:08.644060Z",
     "shell.execute_reply": "2024-12-22T13:56:08.643147Z",
     "shell.execute_reply.started": "2024-12-22T13:56:08.632548Z"
    },
    "id": "Zmw6qMBU3jwH",
    "outputId": "ac8fdb8f-521a-42a0-ef0b-5f70b829f6d7",
    "trusted": true
   },
   "outputs": [],
   "source": [
    "model.summary()  # modele ait olan katmanları ve bu katmanlar hakkındaki bilgileri veriyor"
   ]
  },
  {
   "cell_type": "code",
   "execution_count": null,
   "metadata": {
    "execution": {
     "iopub.execute_input": "2024-12-22T13:56:10.886117Z",
     "iopub.status.busy": "2024-12-22T13:56:10.885442Z",
     "iopub.status.idle": "2024-12-22T13:56:10.899200Z",
     "shell.execute_reply": "2024-12-22T13:56:10.898321Z",
     "shell.execute_reply.started": "2024-12-22T13:56:10.886087Z"
    },
    "id": "BEfl8VDK3jwH",
    "trusted": true
   },
   "outputs": [],
   "source": [
    "model.compile(\n",
    "    loss='categorical_crossentropy',  # Çok sınıflı sınıflandırma problemleri için kayıp fonksiyonu\n",
    "    optimizer=RMSprop(learning_rate=1e-4),  # Optimize edici olarak RMSprop, learnin rate 0.0001\n",
    "    metrics=['accuracy']  # Modelin doğruluğunu metrik olarak izlenecek\n",
    ")\n"
   ]
  },
  {
   "cell_type": "code",
   "execution_count": null,
   "metadata": {
    "execution": {
     "iopub.execute_input": "2024-12-22T14:06:58.150487Z",
     "iopub.status.busy": "2024-12-22T14:06:58.149862Z",
     "iopub.status.idle": "2024-12-22T14:21:29.479175Z",
     "shell.execute_reply": "2024-12-22T14:21:29.477931Z",
     "shell.execute_reply.started": "2024-12-22T14:06:58.150455Z"
    },
    "id": "HXlp4izk3jwI",
    "trusted": true
   },
   "outputs": [],
   "source": [
    "es = EarlyStopping(monitor='val_loss',mode='min', verbose=1, patience=10)  # Eğitim sırasında modelin performansını izlenir ve doğrulama kaybı 10 epoch boyunca iyileşmezse eğitim durdurulacaktır\n",
    "mc = ModelCheckpoint('/kaggle/working/xception_weights.h5', monitor='val_acc',mode='max',verbose=1, save_best_only=True) # Koşul sağlandığında modelin ağırlıklarını kaydeder. Bu, en iyi modelin kaydedilmesini sağlar.\n",
    "# False = Her Epoch'ta ağrlığı kaydeder\n",
    "\n",
    "history = model.fit( #  Modelin eğitim süreci başlatılır. \n",
    "    train_generator, \n",
    "    steps_per_epoch = train_generator.samples/train_generator.batch_size,\n",
    "    epochs=30,\n",
    "    validation_data = validation_generator,\n",
    "    validation_steps = validation_generator.samples/validation_generator.batch_size,\n",
    "    verbose=1,  # Eğitim sırasında bilgi mesajlarını ekrana yazdırır (0 = False)\n",
    "    callbacks = [es,mc])\n",
    "\n",
    "model.save(\"/kaggle/working/xception_weights_all.h5\")"
   ]
  },
  {
   "cell_type": "code",
   "execution_count": null,
   "metadata": {
    "execution": {
     "iopub.execute_input": "2024-12-22T14:27:21.989887Z",
     "iopub.status.busy": "2024-12-22T14:27:21.988900Z",
     "iopub.status.idle": "2024-12-22T14:27:25.513137Z",
     "shell.execute_reply": "2024-12-22T14:27:25.512397Z",
     "shell.execute_reply.started": "2024-12-22T14:27:21.989838Z"
    },
    "id": "0IC5yEjG3jwI",
    "outputId": "207b028b-de93-4370-9034-83712aa6730c",
    "trusted": true
   },
   "outputs": [],
   "source": [
    "score = model.evaluate(validation_generator, batch_size=32) # Modelin doğrulama verisi üzerinde ne kadar iyi performans gösterdiğini değerlendiriyoruz  \n",
    "print('Score Accuracy : {:.2f}%'.format(score[1]*100))"
   ]
  },
  {
   "cell_type": "code",
   "execution_count": null,
   "metadata": {
    "execution": {
     "iopub.execute_input": "2024-12-22T14:27:30.728243Z",
     "iopub.status.busy": "2024-12-22T14:27:30.727545Z",
     "iopub.status.idle": "2024-12-22T14:27:30.733100Z",
     "shell.execute_reply": "2024-12-22T14:27:30.732110Z",
     "shell.execute_reply.started": "2024-12-22T14:27:30.728210Z"
    },
    "trusted": true
   },
   "outputs": [],
   "source": [
    "print(history.history.keys())"
   ]
  },
  {
   "cell_type": "code",
   "execution_count": null,
   "metadata": {
    "execution": {
     "iopub.execute_input": "2024-12-22T14:27:35.230370Z",
     "iopub.status.busy": "2024-12-22T14:27:35.229987Z",
     "iopub.status.idle": "2024-12-22T14:27:35.644993Z",
     "shell.execute_reply": "2024-12-22T14:27:35.644080Z",
     "shell.execute_reply.started": "2024-12-22T14:27:35.230323Z"
    },
    "id": "kneBWeMM3jwI",
    "trusted": true
   },
   "outputs": [],
   "source": [
    "# Accuracy ve loss değerlerini alıyoruz\n",
    "train_acc = history.history['acc'] \n",
    "val_acc = history.history['val_acc']\n",
    "train_loss = history.history['loss']\n",
    "val_loss = history.history['val_loss']\n",
    "\n",
    "epochs = range(1, len(train_acc) + 1)\n",
    "\n",
    "plt.plot(epochs, train_acc, 'b*-', label = 'Training accuracy')\n",
    "plt.plot(epochs, val_acc, 'r', label = 'Validation accuracy')\n",
    "plt.title('Training and validation accuracy')\n",
    "plt.legend()\n",
    "\n",
    "plt.figure() # Farklı bir grafik üzerinde gösteriyoruz\n",
    "\n",
    "plt.plot(epochs, train_loss, 'b*-', label = 'Training loss') # Eğitim doğruluğunu mavi renkte ve yıldız işaretleriyle çizdiriyoruz\n",
    "plt.plot(epochs, val_loss, 'r', label = 'Validation loss') # Eğitim doğruluğunu kırmızı renkte çizdiriyoruz\n",
    "plt.title('Training and validation loss')\n",
    "plt.legend()\n",
    "\n",
    "plt.show()"
   ]
  },
  {
   "cell_type": "markdown",
   "metadata": {
    "id": "vOMhaeoJ3jwJ"
   },
   "source": [
    "* İki grafik arasında küçük bir fark olması normaldir\n",
    "* İki ölçümde aynı yönde ilerliyorsa her şey yolunda demektir.\n",
    "* Eğim metriği gelişmeye devam ederken doğrulama metriği durgunlaşmaya başlarsa aşırı uyuma yaklaşıyorsunuz demektir.\n",
    "* Doğrulama ölçüsü yanlış yöne gidiyorsa, model açıkça gereğinden fazla uyumludur. "
   ]
  },
  {
   "cell_type": "code",
   "execution_count": null,
   "metadata": {
    "execution": {
     "iopub.execute_input": "2024-12-22T14:29:46.204724Z",
     "iopub.status.busy": "2024-12-22T14:29:46.204023Z",
     "iopub.status.idle": "2024-12-22T14:29:50.035829Z",
     "shell.execute_reply": "2024-12-22T14:29:50.034850Z",
     "shell.execute_reply.started": "2024-12-22T14:29:46.204691Z"
    },
    "id": "VY1Syf9bUlFV",
    "trusted": true
   },
   "outputs": [],
   "source": [
    "x_val, y_val = test_val.next() # ikili array dizileri arasında birbiri ardına veri çekmek için kullanılan bir fonksiyondur (next())"
   ]
  },
  {
   "cell_type": "code",
   "execution_count": null,
   "metadata": {
    "execution": {
     "iopub.execute_input": "2024-12-22T14:29:52.410550Z",
     "iopub.status.busy": "2024-12-22T14:29:52.409821Z",
     "iopub.status.idle": "2024-12-22T14:29:58.831333Z",
     "shell.execute_reply": "2024-12-22T14:29:58.830581Z",
     "shell.execute_reply.started": "2024-12-22T14:29:52.410515Z"
    },
    "id": "jkhLq3MDVRNy",
    "trusted": true
   },
   "outputs": [],
   "source": [
    "x_test = np.asarray(x_val) # x_val değerlerini bir array'e çevirir\n",
    "print(x_test.shape)\n",
    "\n",
    "y_test = np.asarray(y_val) # y_valdeğerlerini bir array'a çevirir\n",
    "print(y_test.shape)\n",
    "\n",
    "y_true = y_test # doğru sınıf ve görüntü uyuşmalarını birbirine eşitler\n",
    "\n",
    "pred_Y = model.predict(x_test, batch_size = 32, verbose=True) # x_test verilerini modele vererek genel bir doğruluk hesaplaması yaptırır\n",
    "pred_Y_cat = np.argmax(pred_Y, -1) # elindeki doğruluklar olasılıksal bir dağılım yaptıkları için aralarından en büyüğünü seçilir\n",
    "print(pred_Y_cat)"
   ]
  },
  {
   "cell_type": "code",
   "execution_count": null,
   "metadata": {
    "execution": {
     "iopub.execute_input": "2024-12-22T14:30:01.783943Z",
     "iopub.status.busy": "2024-12-22T14:30:01.783115Z",
     "iopub.status.idle": "2024-12-22T14:30:01.906228Z",
     "shell.execute_reply": "2024-12-22T14:30:01.905261Z",
     "shell.execute_reply.started": "2024-12-22T14:30:01.783912Z"
    },
    "id": "7NdVZCOdV3iF",
    "trusted": true
   },
   "outputs": [],
   "source": [
    "from sklearn.metrics import confusion_matrix\n",
    "import pandas as pd\n",
    "\n",
    "cm=(confusion_matrix(np.argmax(y_true,-1), pred_Y_cat)) # confusion matrix oluşturulur\n",
    "print(cm)"
   ]
  },
  {
   "cell_type": "code",
   "execution_count": null,
   "metadata": {
    "execution": {
     "iopub.execute_input": "2024-12-22T14:31:33.690902Z",
     "iopub.status.busy": "2024-12-22T14:31:33.690522Z",
     "iopub.status.idle": "2024-12-22T14:31:34.232981Z",
     "shell.execute_reply": "2024-12-22T14:31:34.231322Z",
     "shell.execute_reply.started": "2024-12-22T14:31:33.690873Z"
    },
    "id": "HuxsLIoMejAG",
    "trusted": true
   },
   "outputs": [],
   "source": [
    "cm2 = pd.DataFrame(cm,columns=[\"CARDBOARD\",\"GLASS\",\"METAL\",\"PAPER\",\"PLASTIC\",\"TRASH\"],index=[\"CARDBOARD\",\"GLASS\",\"METAL\",\"PAPER\",\"PLASTIC\",\"TRASH\"])\n",
    "plt.figure(figsize=(6,5))\n",
    "\n",
    "hm = sns.heatmap(cm2,annot=True,fmt ='n')\n",
    "hm.tick_params(labeltop=True,labelbottom=False,top=True,bottom=False)\n",
    "hm.set_xlabel('Model tahmini')\n",
    "hm.xaxis.set_label_position('top')\n",
    "hm.set_ylabel('Gerçek Değerler')"
   ]
  },
  {
   "cell_type": "markdown",
   "metadata": {
    "id": "EsuAAJ6E3jwJ"
   },
   "source": [
    "# *Xception Modelinin Test Edilmesi*"
   ]
  },
  {
   "cell_type": "code",
   "execution_count": null,
   "metadata": {
    "execution": {
     "iopub.execute_input": "2024-12-22T14:31:46.753605Z",
     "iopub.status.busy": "2024-12-22T14:31:46.753251Z",
     "iopub.status.idle": "2024-12-22T14:31:46.761304Z",
     "shell.execute_reply": "2024-12-22T14:31:46.760333Z",
     "shell.execute_reply.started": "2024-12-22T14:31:46.753577Z"
    },
    "id": "dKlZAP_73jwJ",
    "trusted": true
   },
   "outputs": [],
   "source": [
    "from sklearn.preprocessing import LabelBinarizer #  LabelBinarizer fonksiyonu labelları matrise çevirir.\n",
    "LABELS=[\"CARDBOARD\",\"GLASS\",\"METAL\",\"PAPER\",\"PLASTIC\",\"TRASH\"] # Etiket isimlerini belirliyoruz\n",
    "\n",
    "labels = np.array(LABELS) # labellarımızı numpy array'i içine aldık\n",
    "lb = LabelBinarizer()  # lb değişkenine LabelBinarizer() fonksiyonunu atadık\n",
    "labels = lb.fit_transform(labels)  #  matrise çevirilen labelları kolonlara çevirir yani 1xn'lik matrislere"
   ]
  },
  {
   "cell_type": "code",
   "execution_count": null,
   "metadata": {
    "execution": {
     "iopub.execute_input": "2024-12-22T14:31:48.996655Z",
     "iopub.status.busy": "2024-12-22T14:31:48.996287Z",
     "iopub.status.idle": "2024-12-22T14:31:59.722600Z",
     "shell.execute_reply": "2024-12-22T14:31:59.721404Z",
     "shell.execute_reply.started": "2024-12-22T14:31:48.996627Z"
    },
    "id": "2VQbQgIW3jwJ",
    "outputId": "56e9dac9-f483-4771-bf32-b6c91c1f1b5a",
    "trusted": true
   },
   "outputs": [],
   "source": [
    "# imutils kütüphanesi kaggle içinde bulunmadığı için biz indiriyoruz\n",
    "!pip install imutils"
   ]
  },
  {
   "cell_type": "code",
   "execution_count": null,
   "metadata": {
    "execution": {
     "iopub.execute_input": "2024-12-22T14:31:59.724904Z",
     "iopub.status.busy": "2024-12-22T14:31:59.724576Z",
     "iopub.status.idle": "2024-12-22T14:31:59.875105Z",
     "shell.execute_reply": "2024-12-22T14:31:59.874478Z",
     "shell.execute_reply.started": "2024-12-22T14:31:59.724858Z"
    },
    "id": "OnYuF-vm3jwJ",
    "trusted": true
   },
   "outputs": [],
   "source": [
    "# test için gereken kütüphaneleri import ediyoruz\n",
    "from tensorflow.keras.preprocessing.image import img_to_array\n",
    "from tensorflow.keras.preprocessing.image import load_img\n",
    "from tensorflow.keras.models import load_model\n",
    "import numpy as np\n",
    "import argparse\n",
    "import imutils\n",
    "import pickle\n",
    "import cv2\n",
    "import os"
   ]
  },
  {
   "cell_type": "code",
   "execution_count": null,
   "metadata": {
    "execution": {
     "iopub.execute_input": "2024-12-22T14:32:02.320045Z",
     "iopub.status.busy": "2024-12-22T14:32:02.319727Z",
     "iopub.status.idle": "2024-12-22T14:32:08.013649Z",
     "shell.execute_reply": "2024-12-22T14:32:08.012908Z",
     "shell.execute_reply.started": "2024-12-22T14:32:02.320020Z"
    },
    "id": "JbdUOPVG3jwK",
    "outputId": "3056eade-c237-4315-ae98-d2b4c57678a4",
    "trusted": true
   },
   "outputs": [],
   "source": [
    "print(\"[INFO] loading object detector...\")\n",
    "model = load_model('./xception_weights_all.h5')  # Eğittimiz modelin ağırlıklarını çağırdık\n",
    "                                                 # Bu ağırlığı modele verdik ve model bu ağırlığa göre test yapıyoruz"
   ]
  },
  {
   "cell_type": "code",
   "execution_count": null,
   "metadata": {
    "execution": {
     "iopub.execute_input": "2024-12-22T14:49:56.628860Z",
     "iopub.status.busy": "2024-12-22T14:49:56.627986Z",
     "iopub.status.idle": "2024-12-22T14:49:56.639153Z",
     "shell.execute_reply": "2024-12-22T14:49:56.638241Z",
     "shell.execute_reply.started": "2024-12-22T14:49:56.628816Z"
    },
    "id": "iFi9rPx73jwK",
    "trusted": true
   },
   "outputs": [],
   "source": [
    "def predictImg(imagePath):  \n",
    "    image = cv2.imread(imagePath)  # Görseli oku\n",
    "    image = cv2.cvtColor(image, cv2.COLOR_BGR2RGB)  # BGR'den RGB'ye çevir\n",
    "    output = image.copy()  # Ana görselin kopyasını al\n",
    "    image = cv2.resize(image, (299, 299))  # Xception için 299x299 boyutuna yeniden boyutlandır\n",
    "    image = image.astype(\"float32\") / 255.0  # Görseli normalize et (Xception için uygundur)\n",
    "    image = img_to_array(image)  # Görseli diziye dönüştür\n",
    "    image = np.expand_dims(image, axis=0)  # Görseli batch boyutunda genişlet\n",
    "\n",
    "    # Modelin tahminini yap\n",
    "    proba = model.predict(image)[0]  \n",
    "    idx = np.argmax(proba)  # En yüksek doğruluk oranına sahip olan sınıfı bul\n",
    "    label = lb.classes_[idx]  # Sınıfı al\n",
    "    label = \"{}: {:.2f}%\".format(label, proba[idx] * 100)  # Etiketi formatla\n",
    "\n",
    "    # Sonuçları görselleştir\n",
    "    cv2.putText(output, label, (10, 25), cv2.FONT_HERSHEY_SIMPLEX, 0.7, (255, 0, 0), 2)  # Etiketi ekle\n",
    "    fig = plt.figure(figsize=(10, 10))\n",
    "    plt.grid(b=None)\n",
    "    plt.axis('off')\n",
    "    return plt.imshow(output)"
   ]
  },
  {
   "cell_type": "code",
   "execution_count": null,
   "metadata": {
    "execution": {
     "iopub.execute_input": "2024-12-22T14:49:58.461261Z",
     "iopub.status.busy": "2024-12-22T14:49:58.460695Z",
     "iopub.status.idle": "2024-12-22T14:49:58.823675Z",
     "shell.execute_reply": "2024-12-22T14:49:58.822783Z",
     "shell.execute_reply.started": "2024-12-22T14:49:58.461231Z"
    },
    "id": "rhYEPSru3jwK",
    "trusted": true
   },
   "outputs": [],
   "source": [
    "imagePath = '../input/split-garbage-dataset/test/cardboard/cardboard121.jpg'\n",
    "predictImg(imagePath)"
   ]
  },
  {
   "cell_type": "code",
   "execution_count": null,
   "metadata": {
    "execution": {
     "iopub.execute_input": "2024-12-22T14:50:44.076012Z",
     "iopub.status.busy": "2024-12-22T14:50:44.075631Z",
     "iopub.status.idle": "2024-12-22T14:50:44.411679Z",
     "shell.execute_reply": "2024-12-22T14:50:44.410685Z",
     "shell.execute_reply.started": "2024-12-22T14:50:44.075981Z"
    },
    "id": "y9SBwIGK3jwK",
    "trusted": true
   },
   "outputs": [],
   "source": [
    "imagePath = '../input/split-garbage-dataset/test/metal/metal246.jpg'\n",
    "predictImg(imagePath)"
   ]
  },
  {
   "cell_type": "code",
   "execution_count": null,
   "metadata": {
    "execution": {
     "iopub.execute_input": "2024-12-22T14:51:22.737652Z",
     "iopub.status.busy": "2024-12-22T14:51:22.736902Z",
     "iopub.status.idle": "2024-12-22T14:51:23.004142Z",
     "shell.execute_reply": "2024-12-22T14:51:23.003167Z",
     "shell.execute_reply.started": "2024-12-22T14:51:22.737619Z"
    },
    "id": "JS3e35wt3jwL",
    "trusted": true
   },
   "outputs": [],
   "source": [
    "imagePath = '../input/split-garbage-dataset/test/paper/paper124.jpg'\n",
    "predictImg(imagePath)"
   ]
  },
  {
   "cell_type": "code",
   "execution_count": null,
   "metadata": {
    "execution": {
     "iopub.execute_input": "2024-12-22T14:52:02.059769Z",
     "iopub.status.busy": "2024-12-22T14:52:02.059406Z",
     "iopub.status.idle": "2024-12-22T14:52:02.385295Z",
     "shell.execute_reply": "2024-12-22T14:52:02.384298Z",
     "shell.execute_reply.started": "2024-12-22T14:52:02.059723Z"
    },
    "id": "QylJF69rbZzH",
    "trusted": true
   },
   "outputs": [],
   "source": [
    "imagePath = '../input/split-garbage-dataset/test/plastic/plastic2.jpg'\n",
    "predictImg(imagePath)"
   ]
  },
  {
   "cell_type": "code",
   "execution_count": null,
   "metadata": {
    "trusted": true
   },
   "outputs": [],
   "source": [
    "import os\n",
    "import random\n",
    "import matplotlib.pyplot as plt\n",
    "import cv2\n",
    "import numpy as np\n",
    "from tensorflow.keras.preprocessing.image import img_to_array\n",
    "\n",
    "# Verilen predict fonksiyonu kullanılacak\n",
    "\n",
    "def testRandom(test_dir, model, lb):  # Rastgele 5 farklı sınıftan 5 farklı resimi test etmek için function\n",
    "    classes = os.listdir(test_dir)  # Klasördeki sınıf isimlerini al\n",
    "    selected_classes = random.sample(classes, 5)  # 5 rastgele sınıf seç\n",
    "\n",
    "    fig, axes = plt.subplots(1, 5, figsize=(20, 5))  # Görselleri göstermek için bir figür oluştur\n",
    "    fig.suptitle(\"Model Test Sonuçları\", fontsize=16, y=0.95)  # Başlığı biraz yukarı taşı\n",
    "\n",
    "    for i, cls in enumerate(selected_classes):\n",
    "        class_dir = os.path.join(test_dir, cls)\n",
    "        images = os.listdir(class_dir)  # Sınıfa ait görselleri al\n",
    "        selected_image = random.choice(images)  # Rastgele bir görsel seç\n",
    "        image_path = os.path.join(class_dir, selected_image)\n",
    "\n",
    "        # Test ve görselleştirme\n",
    "        try:\n",
    "            result_image = predict(image_path, model, lb)\n",
    "            axes[i].imshow(result_image)\n",
    "            axes[i].set_title(cls, fontsize=12, color='black')  # Başlık rengi eklendi\n",
    "            axes[i].axis('off')\n",
    "        except Exception as e:\n",
    "            print(f\"Hata: {e}\")\n",
    "\n",
    "    plt.tight_layout()  # Elemanlar arası boşlukları optimize et\n",
    "    plt.show()\n",
    "\n",
    "def predict(imagePath, model, lb):\n",
    " \n",
    "    image = cv2.imread(imagePath)\n",
    "    if image is None:\n",
    "        raise ValueError(\"Görsel yüklenemedi.\")\n",
    "    image = cv2.cvtColor(image, cv2.COLOR_BGR2RGB)\n",
    "    output = image.copy()\n",
    "\n",
    "    image = cv2.resize(image, (224, 224))\n",
    "    image = image.astype(\"float\") / 255.0\n",
    "    image = img_to_array(image)\n",
    "    image = np.expand_dims(image, axis=0)\n",
    "\n",
    "    proba = model.predict(image)[0]\n",
    "    idx = np.argmax(proba)\n",
    "    label = lb.classes_[idx]\n",
    "    label_text = f\"{label}: {proba[idx] * 100:.2f}%\"\n",
    "\n",
    "    cv2.putText(output, label_text, (10, 25), cv2.FONT_HERSHEY_SIMPLEX, 0.7, (255, 0, 0), 2)\n",
    "\n",
    "    return output\n",
    "path = '/kaggle/input/split-garbage-dataset/test'\n",
    "# Kullanım örneği:\n",
    "testRandom(path, model, lb)\n"
   ]
  },
  {
   "cell_type": "markdown",
   "metadata": {
    "id": "jP6X5VwqjHkF"
   },
   "source": [
    "# **InceptionResnetV2 Modeli** "
   ]
  },
  {
   "cell_type": "code",
   "execution_count": null,
   "metadata": {
    "execution": {
     "iopub.execute_input": "2024-12-22T14:52:22.399772Z",
     "iopub.status.busy": "2024-12-22T14:52:22.399432Z",
     "iopub.status.idle": "2024-12-22T14:52:22.404442Z",
     "shell.execute_reply": "2024-12-22T14:52:22.403302Z",
     "shell.execute_reply.started": "2024-12-22T14:52:22.399745Z"
    },
    "id": "8_x0QfWVjFjz",
    "trusted": true
   },
   "outputs": [],
   "source": [
    "from tensorflow.keras.applications.inception_resnet_v2 import InceptionResNetV2  # InceptionResNetV2 modelini import ediyoruz"
   ]
  },
  {
   "cell_type": "code",
   "execution_count": null,
   "metadata": {
    "execution": {
     "iopub.execute_input": "2024-12-22T14:52:24.116583Z",
     "iopub.status.busy": "2024-12-22T14:52:24.115840Z",
     "iopub.status.idle": "2024-12-22T14:52:24.120754Z",
     "shell.execute_reply": "2024-12-22T14:52:24.119716Z",
     "shell.execute_reply.started": "2024-12-22T14:52:24.116550Z"
    },
    "id": "Ixlg4cBYjZsG",
    "trusted": true
   },
   "outputs": [],
   "source": [
    "img_shape = (299,299,3) # Girdi boyutlarını InceptionResNetV2 modeline göre uyarlıyoruz"
   ]
  },
  {
   "cell_type": "code",
   "execution_count": null,
   "metadata": {
    "execution": {
     "iopub.execute_input": "2024-12-22T14:52:26.622315Z",
     "iopub.status.busy": "2024-12-22T14:52:26.621577Z",
     "iopub.status.idle": "2024-12-22T14:52:31.697159Z",
     "shell.execute_reply": "2024-12-22T14:52:31.696405Z",
     "shell.execute_reply.started": "2024-12-22T14:52:26.622279Z"
    },
    "id": "gALBYPK9jNnZ",
    "trusted": true
   },
   "outputs": [],
   "source": [
    "inceptionresnet = InceptionResNetV2(weights='imagenet', # ImageNet üzerinde eğitilmiş InceptionResNetV2 adlı mimariyi alıyoruz \n",
    "                                    include_top = False, # Son katman olan output katmanını almıyoruz biz kendi çıktı katmanımızı ekleyeceğiz\n",
    "                                    input_shape = img_shape) # Girdi boyutları"
   ]
  },
  {
   "cell_type": "code",
   "execution_count": null,
   "metadata": {
    "collapsed": true,
    "execution": {
     "iopub.execute_input": "2024-12-22T14:52:31.698807Z",
     "iopub.status.busy": "2024-12-22T14:52:31.698540Z",
     "iopub.status.idle": "2024-12-22T14:52:31.777764Z",
     "shell.execute_reply": "2024-12-22T14:52:31.776856Z",
     "shell.execute_reply.started": "2024-12-22T14:52:31.698782Z"
    },
    "id": "967kqwsHjhnA",
    "jupyter": {
     "outputs_hidden": true
    },
    "trusted": true
   },
   "outputs": [],
   "source": [
    "print(inceptionresnet.summary()) # Modelimizin katmanlarını ve katmanları hakkındaki bilgileri yazdırıyoruz"
   ]
  },
  {
   "cell_type": "code",
   "execution_count": null,
   "metadata": {
    "execution": {
     "iopub.execute_input": "2024-12-22T14:52:42.908494Z",
     "iopub.status.busy": "2024-12-22T14:52:42.908074Z",
     "iopub.status.idle": "2024-12-22T14:52:42.931084Z",
     "shell.execute_reply": "2024-12-22T14:52:42.929991Z",
     "shell.execute_reply.started": "2024-12-22T14:52:42.908463Z"
    },
    "id": "PGWDYBt7juY0",
    "trusted": true
   },
   "outputs": [],
   "source": [
    "for layer in inceptionresnet.layers[:-3]:  # Son 3 katmanı donduruyoruz \n",
    "    layer.trainable = False "
   ]
  },
  {
   "cell_type": "code",
   "execution_count": null,
   "metadata": {
    "execution": {
     "iopub.execute_input": "2024-12-22T14:54:44.525732Z",
     "iopub.status.busy": "2024-12-22T14:54:44.524865Z",
     "iopub.status.idle": "2024-12-22T14:54:46.152177Z",
     "shell.execute_reply": "2024-12-22T14:54:46.151373Z",
     "shell.execute_reply.started": "2024-12-22T14:54:44.525697Z"
    },
    "id": "RL42EAbgjuWL",
    "trusted": true
   },
   "outputs": [],
   "source": [
    "model = Sequential()   # Katmanların sıralı bir şekilde eklenilmesini sağlar \n",
    " \n",
    "model.add(inceptionresnet) # Daha önce tanımladığımız InceptionResnetV2 modelini ekleriz (son 3 katman hariç)\n",
    "   \n",
    "model.add(Flatten()) # Görüntü boyutlarını tek boyutlu bir vektöre dönüştürüyoruz\n",
    "model.add(Dense(1024, activation='relu')) # 1024 nöronlu tam bağlantılı relu aktivaston fonk ekliyoruz (-1,-2,-5 --> 0  &  1,2,3 -->1,2,3) \n",
    "model.add(Dropout(0.2))  # %20 oranında bağlantıları kapatarak modelin genelleme yeteneğini artırır\n",
    "model.add(Dense(6, activation='softmax'))  # Sınıflandırılmanın yapılacağı katman"
   ]
  },
  {
   "cell_type": "code",
   "execution_count": null,
   "metadata": {
    "execution": {
     "iopub.execute_input": "2024-12-22T14:54:46.154589Z",
     "iopub.status.busy": "2024-12-22T14:54:46.154030Z",
     "iopub.status.idle": "2024-12-22T14:54:46.182482Z",
     "shell.execute_reply": "2024-12-22T14:54:46.181424Z",
     "shell.execute_reply.started": "2024-12-22T14:54:46.154549Z"
    },
    "id": "eWX8pErKjuT-",
    "trusted": true
   },
   "outputs": [],
   "source": [
    "model.summary()  # Modelimizin yapısı görüntülüyoruz"
   ]
  },
  {
   "cell_type": "code",
   "execution_count": null,
   "metadata": {
    "execution": {
     "iopub.execute_input": "2024-12-22T14:54:46.183922Z",
     "iopub.status.busy": "2024-12-22T14:54:46.183631Z",
     "iopub.status.idle": "2024-12-22T14:54:46.202633Z",
     "shell.execute_reply": "2024-12-22T14:54:46.201634Z",
     "shell.execute_reply.started": "2024-12-22T14:54:46.183897Z"
    },
    "id": "NaQDUvjPjuRT",
    "trusted": true
   },
   "outputs": [],
   "source": [
    "model.compile(loss='categorical_crossentropy', # backpropagation ve forwardpropagation için kayıp fonksiyonu\n",
    "             optimizer=RMSprop(learning_rate=1e-4),  #0.0001 \n",
    "             metrics=['accuracy'])"
   ]
  },
  {
   "cell_type": "code",
   "execution_count": null,
   "metadata": {
    "execution": {
     "iopub.execute_input": "2024-12-22T14:54:48.654797Z",
     "iopub.status.busy": "2024-12-22T14:54:48.653822Z",
     "iopub.status.idle": "2024-12-22T15:13:49.267431Z",
     "shell.execute_reply": "2024-12-22T15:13:49.266409Z",
     "shell.execute_reply.started": "2024-12-22T14:54:48.654758Z"
    },
    "id": "Lua-vga8j5w1",
    "trusted": true
   },
   "outputs": [],
   "source": [
    "es = EarlyStopping(monitor='val_loss',mode='min',verbose=1,patience=10) # Eğitim sırasında modelin performansını izlenir ve doğrulama kaybı 10 epoch boyunca iyileşmezse eğitim durdurulacaktır\n",
    "mc = ModelCheckpoint('/kaggle/working/inceptionresnetv2_best.h5',monitor='val_acc',mode='max',verbose=1,save_best_only=True)  # Koşul sağlandığında modelin ağırlıklarını kaydeder. Bu, en iyi modelin kaydedilmesini sağlar.\n",
    "\n",
    "history = model.fit_generator( #  Modelin eğitim süreci başlatılır.\n",
    "    train_generator,\n",
    "    steps_per_epoch = train_generator.samples/train_generator.batch_size,\n",
    "    epochs=30,\n",
    "    validation_data = validation_generator,\n",
    "    validation_steps = validation_generator.samples/validation_generator.batch_size,\n",
    "    verbose=1, # Eğitim sırasında bilgi mesajlarını ekrana yazdırır (0 = False)\n",
    "    callbacks=[es,mc])\n",
    "\n",
    "model.save(\"/kaggle/working/inceptionresnetv2_all.h5\")"
   ]
  },
  {
   "cell_type": "code",
   "execution_count": null,
   "metadata": {
    "execution": {
     "iopub.execute_input": "2024-12-22T15:16:36.443289Z",
     "iopub.status.busy": "2024-12-22T15:16:36.442912Z",
     "iopub.status.idle": "2024-12-22T15:16:40.789187Z",
     "shell.execute_reply": "2024-12-22T15:16:40.788401Z",
     "shell.execute_reply.started": "2024-12-22T15:16:36.443259Z"
    },
    "id": "EZ97iMNECGvE",
    "trusted": true
   },
   "outputs": [],
   "source": [
    "score = model.evaluate(validation_generator, batch_size=32) # Modelin doğrulama verisi üzerinde ne kadar iyi performans gösterdiğini değerlendiriyoruz  \n",
    "print('Score Accuracy : {:.2f}%'.format(score[1]*100))"
   ]
  },
  {
   "cell_type": "code",
   "execution_count": null,
   "metadata": {
    "execution": {
     "iopub.execute_input": "2024-12-22T15:16:43.593675Z",
     "iopub.status.busy": "2024-12-22T15:16:43.592985Z",
     "iopub.status.idle": "2024-12-22T15:16:43.598285Z",
     "shell.execute_reply": "2024-12-22T15:16:43.597320Z",
     "shell.execute_reply.started": "2024-12-22T15:16:43.593643Z"
    },
    "id": "121LE3Nr93uu",
    "outputId": "cb8a8b69-c9f9-4d29-d4b3-95c79dc8cf9d",
    "trusted": true
   },
   "outputs": [],
   "source": [
    "print(history.history.keys())"
   ]
  },
  {
   "cell_type": "code",
   "execution_count": null,
   "metadata": {
    "execution": {
     "iopub.execute_input": "2024-12-22T15:16:45.871665Z",
     "iopub.status.busy": "2024-12-22T15:16:45.871286Z",
     "iopub.status.idle": "2024-12-22T15:16:46.265019Z",
     "shell.execute_reply": "2024-12-22T15:16:46.263765Z",
     "shell.execute_reply.started": "2024-12-22T15:16:45.871636Z"
    },
    "id": "fKAhLSEmj9mV",
    "trusted": true
   },
   "outputs": [],
   "source": [
    "# Accuracy ve loss değerlerini alıyoruz\n",
    "train_acc = history.history['acc'] \n",
    "val_acc = history.history['val_acc']\n",
    "train_loss = history.history['loss']\n",
    "val_loss = history.history['val_loss']\n",
    "\n",
    "epochs = range(1, len(train_acc) + 1)\n",
    "\n",
    "plt.plot(epochs, train_acc, 'b*-', label = 'Training accuracy')\n",
    "plt.plot(epochs, val_acc, 'r', label = 'Validation accuracy')\n",
    "plt.title('Training and validation accuracy')\n",
    "plt.legend()\n",
    "\n",
    "plt.figure() # Farklı bir grafik üzerinde gösteriyoruz\n",
    "\n",
    "plt.plot(epochs, train_loss, 'b*-', label = 'Training loss') # Eğitim doğruluğunu mavi renkte ve yıldız işaretleriyle çizdiriyoruz\n",
    "plt.plot(epochs, val_loss, 'r', label = 'Validation loss') # Eğitim doğruluğunu kırmızı renkte çizdiriyoruz\n",
    "plt.title('Training and validation loss')\n",
    "plt.legend()\n",
    "\n",
    "plt.show()"
   ]
  },
  {
   "cell_type": "code",
   "execution_count": null,
   "metadata": {
    "execution": {
     "iopub.execute_input": "2024-12-22T15:16:54.941801Z",
     "iopub.status.busy": "2024-12-22T15:16:54.941466Z",
     "iopub.status.idle": "2024-12-22T15:17:07.327211Z",
     "shell.execute_reply": "2024-12-22T15:17:07.326330Z",
     "shell.execute_reply.started": "2024-12-22T15:16:54.941774Z"
    },
    "id": "IXlW-9swkT4L",
    "trusted": true
   },
   "outputs": [],
   "source": [
    "x_val, y_val = test_val.next()\n",
    "\n",
    "x_test = np.asarray(x_val)\n",
    "print(x_test.shape)\n",
    "\n",
    "y_test = np.asarray(y_val)\n",
    "print(y_test.shape)\n",
    "\n",
    "y_true = y_test\n",
    "\n",
    "#y_pred = model.predict_classes(x_test)\n",
    "#y_probas = model.predict(x_test)\n",
    "\n",
    "pred_Y = model.predict(x_test, batch_size = 32, verbose=True)\n",
    "pred_Y_cat = np.argmax(pred_Y, -1)\n",
    "print(pred_Y_cat)"
   ]
  },
  {
   "cell_type": "code",
   "execution_count": null,
   "metadata": {
    "execution": {
     "iopub.execute_input": "2024-12-22T15:17:09.478122Z",
     "iopub.status.busy": "2024-12-22T15:17:09.477280Z",
     "iopub.status.idle": "2024-12-22T15:17:09.485110Z",
     "shell.execute_reply": "2024-12-22T15:17:09.484104Z",
     "shell.execute_reply.started": "2024-12-22T15:17:09.478090Z"
    },
    "id": "c3jUCPlpkWP3",
    "trusted": true
   },
   "outputs": [],
   "source": [
    "from sklearn.metrics import confusion_matrix\n",
    "import pandas as pd\n",
    "\n",
    "cm=(confusion_matrix(np.argmax(y_true,-1), pred_Y_cat))\n",
    "print(cm)"
   ]
  },
  {
   "cell_type": "code",
   "execution_count": null,
   "metadata": {
    "execution": {
     "iopub.execute_input": "2024-12-22T15:17:12.794571Z",
     "iopub.status.busy": "2024-12-22T15:17:12.794164Z",
     "iopub.status.idle": "2024-12-22T15:17:13.143473Z",
     "shell.execute_reply": "2024-12-22T15:17:13.142428Z",
     "shell.execute_reply.started": "2024-12-22T15:17:12.794536Z"
    },
    "id": "73ZOynHaf0hy",
    "trusted": true
   },
   "outputs": [],
   "source": [
    "cm2 = pd.DataFrame(cm,columns=[\"CARDBOARD\",\"GLASS\",\"METAL\",\"PAPER\",\"PLASTIC\",\"TRASH\"],index=[\"CARDBOARD\",\"GLASS\",\"METAL\",\"PAPER\",\"PLASTIC\",\"TRASH\"])\n",
    "plt.figure(figsize=(6,5))\n",
    "hm = sns.heatmap(cm2,annot=True,fmt ='n')\n",
    "hm.tick_params(labeltop=True,labelbottom=False,top=True,bottom=False)\n",
    "hm.set_xlabel('Model tahmini')\n",
    "hm.xaxis.set_label_position('top')\n",
    "hm.set_ylabel('Gerçek değerler')"
   ]
  },
  {
   "cell_type": "markdown",
   "metadata": {},
   "source": [
    "# *InceptionResnetV2 Modelinin Test Edilmesi*"
   ]
  },
  {
   "cell_type": "code",
   "execution_count": null,
   "metadata": {
    "execution": {
     "iopub.execute_input": "2024-12-22T15:17:20.377247Z",
     "iopub.status.busy": "2024-12-22T15:17:20.376561Z",
     "iopub.status.idle": "2024-12-22T15:17:21.655101Z",
     "shell.execute_reply": "2024-12-22T15:17:21.654179Z",
     "shell.execute_reply.started": "2024-12-22T15:17:20.377214Z"
    },
    "id": "exV27B3olzDS",
    "trusted": true
   },
   "outputs": [],
   "source": [
    "imagePath = '../input/split-garbage-dataset/test/plastic/plastic2.jpg'\n",
    "predictImg(imagePath)"
   ]
  },
  {
   "cell_type": "code",
   "execution_count": null,
   "metadata": {
    "execution": {
     "iopub.execute_input": "2024-12-22T15:17:24.127169Z",
     "iopub.status.busy": "2024-12-22T15:17:24.126857Z",
     "iopub.status.idle": "2024-12-22T15:17:24.480136Z",
     "shell.execute_reply": "2024-12-22T15:17:24.479277Z",
     "shell.execute_reply.started": "2024-12-22T15:17:24.127144Z"
    },
    "id": "fHVvhUPf-b5i",
    "trusted": true
   },
   "outputs": [],
   "source": [
    "imagePath = '../input/split-garbage-dataset/test/metal/metal246.jpg'\n",
    "predictImg(imagePath)"
   ]
  },
  {
   "cell_type": "code",
   "execution_count": null,
   "metadata": {
    "execution": {
     "iopub.execute_input": "2024-12-22T15:17:26.902643Z",
     "iopub.status.busy": "2024-12-22T15:17:26.902276Z",
     "iopub.status.idle": "2024-12-22T15:17:27.296167Z",
     "shell.execute_reply": "2024-12-22T15:17:27.295183Z",
     "shell.execute_reply.started": "2024-12-22T15:17:26.902614Z"
    },
    "id": "2ZUammR0-fOU",
    "trusted": true
   },
   "outputs": [],
   "source": [
    "imagePath = '../input/split-garbage-dataset/test/cardboard/cardboard121.jpg'\n",
    "predictImg(imagePath)"
   ]
  },
  {
   "cell_type": "code",
   "execution_count": null,
   "metadata": {
    "execution": {
     "iopub.execute_input": "2024-12-22T15:17:29.671300Z",
     "iopub.status.busy": "2024-12-22T15:17:29.670964Z",
     "iopub.status.idle": "2024-12-22T15:17:30.014010Z",
     "shell.execute_reply": "2024-12-22T15:17:30.013201Z",
     "shell.execute_reply.started": "2024-12-22T15:17:29.671272Z"
    },
    "id": "jjo5ZU0c-hQ1",
    "trusted": true
   },
   "outputs": [],
   "source": [
    "imagePath = '../input/split-garbage-dataset/test/paper/paper124.jpg'\n",
    "predictImg(imagePath)"
   ]
  },
  {
   "cell_type": "code",
   "execution_count": null,
   "metadata": {
    "trusted": true
   },
   "outputs": [],
   "source": [
    "import os\n",
    "import random\n",
    "import matplotlib.pyplot as plt\n",
    "import cv2\n",
    "import numpy as np\n",
    "from tensorflow.keras.preprocessing.image import img_to_array\n",
    "\n",
    "# Verilen predict fonksiyonu kullanılacak\n",
    "\n",
    "def testRandom(test_dir, model, lb):\n",
    "    classes = os.listdir(test_dir)  # Klasördeki sınıf isimlerini al\n",
    "    selected_classes = random.sample(classes, 5)  # 5 rastgele sınıf seç\n",
    "\n",
    "    fig, axes = plt.subplots(1, 5, figsize=(20, 5))  # Görselleri göstermek için bir figür oluştur\n",
    "    fig.suptitle(\"Model Test Sonuçları\", fontsize=16, y=0.95)  # Başlığı biraz yukarı taşı\n",
    "\n",
    "    for i, cls in enumerate(selected_classes):\n",
    "        class_dir = os.path.join(test_dir, cls)\n",
    "        images = os.listdir(class_dir)  # Sınıfa ait görselleri al\n",
    "        selected_image = random.choice(images)  # Rastgele bir görsel seç\n",
    "        image_path = os.path.join(class_dir, selected_image)\n",
    "\n",
    "        # Test ve görselleştirme\n",
    "        try:\n",
    "            result_image = predict(image_path, model, lb)\n",
    "            axes[i].imshow(result_image)\n",
    "            axes[i].set_title(cls, fontsize=12, color='black')  # Başlık rengi eklendi\n",
    "            axes[i].axis('off')\n",
    "        except Exception as e:\n",
    "            print(f\"Hata: {e}\")\n",
    "\n",
    "    plt.tight_layout()  # Elemanlar arası boşlukları optimize et\n",
    "    plt.show()\n",
    "\n",
    "def predict(imagePath, model, lb):\n",
    " \n",
    "    image = cv2.imread(imagePath)\n",
    "    if image is None:\n",
    "        raise ValueError(\"Görsel yüklenemedi.\")\n",
    "    image = cv2.cvtColor(image, cv2.COLOR_BGR2RGB)\n",
    "    output = image.copy()\n",
    "\n",
    "    image = cv2.resize(image, (224, 224))\n",
    "    image = image.astype(\"float\") / 255.0\n",
    "    image = img_to_array(image)\n",
    "    image = np.expand_dims(image, axis=0)\n",
    "\n",
    "    proba = model.predict(image)[0]\n",
    "    idx = np.argmax(proba)\n",
    "    label = lb.classes_[idx]\n",
    "    label_text = f\"{label}: {proba[idx] * 100:.2f}%\"\n",
    "\n",
    "    cv2.putText(output, label_text, (10, 25), cv2.FONT_HERSHEY_SIMPLEX, 0.7, (255, 0, 0), 2)\n",
    "\n",
    "    return output\n",
    "path = '/kaggle/input/split-garbage-dataset/test'\n",
    "# Kullanım örneği:\n",
    "testRandom(path, model, lb)\n"
   ]
  },
  {
   "cell_type": "markdown",
   "metadata": {
    "id": "LCowO5d9hNaz"
   },
   "source": [
    "# **DenseNet121 Modeli**"
   ]
  },
  {
   "cell_type": "code",
   "execution_count": null,
   "metadata": {
    "execution": {
     "iopub.execute_input": "2024-12-22T16:02:34.301860Z",
     "iopub.status.busy": "2024-12-22T16:02:34.301494Z",
     "iopub.status.idle": "2024-12-22T16:02:35.280746Z",
     "shell.execute_reply": "2024-12-22T16:02:35.279811Z",
     "shell.execute_reply.started": "2024-12-22T16:02:34.301830Z"
    },
    "id": "83zqqqdjhN-k",
    "trusted": true
   },
   "outputs": [],
   "source": [
    "img_shape = (224,224,3) # DenseNet121 Modelinin istediği shape değerleri\n",
    "\n",
    "train_batch_size = 256 # train için verileri 256'lı gruplar olarak alıyoruz\n",
    "validation_batch_size = 32 # doğrulama için verileri 32'li gruplar olarak veriyoruz\n",
    "\n",
    "len_test = glob('/kaggle/input/split-garbage-dataset/test/*/*')\n",
    "len_test = len(len_test)\n",
    "\n",
    "train_generator = train_datagen.flow_from_directory(\n",
    "    path + 'train',\n",
    "    target_size = (img_shape[0],img_shape[1]),\n",
    "    batch_size = train_batch_size,\n",
    "    class_mode = 'categorical')\n",
    "\n",
    "validation_generator = validation_datagen.flow_from_directory(\n",
    "    path+'valid',\n",
    "    target_size = (img_shape[0],img_shape[1]),\n",
    "    batch_size = validation_batch_size,\n",
    "    class_mode = 'categorical',\n",
    "    shuffle = False)\n",
    "\n",
    "test_generator = test_datagen.flow_from_directory(\n",
    "    path+'test',\n",
    "    target_size = (img_shape[0],img_shape[1]),\n",
    "    batch_size = validation_batch_size,\n",
    "    class_mode = 'categorical',\n",
    "    shuffle=False)\n",
    "\n",
    "test_val = test_datagen.flow_from_directory(\n",
    "            path+'test',\n",
    "            target_size = (img_shape[0], img_shape[1]),\n",
    "            batch_size = len_test,\n",
    "            class_mode = 'categorical',\n",
    "            shuffle=False,)"
   ]
  },
  {
   "cell_type": "code",
   "execution_count": null,
   "metadata": {
    "execution": {
     "iopub.execute_input": "2024-12-22T16:02:40.317205Z",
     "iopub.status.busy": "2024-12-22T16:02:40.316327Z",
     "iopub.status.idle": "2024-12-22T16:02:42.556796Z",
     "shell.execute_reply": "2024-12-22T16:02:42.555747Z",
     "shell.execute_reply.started": "2024-12-22T16:02:40.317174Z"
    },
    "id": "UKT1inlRhToc",
    "trusted": true
   },
   "outputs": [],
   "source": [
    "densenet = tensorflow.keras.applications.DenseNet121(weights = 'imagenet', \n",
    "            include_top = False,\n",
    "            input_shape = img_shape)"
   ]
  },
  {
   "cell_type": "code",
   "execution_count": null,
   "metadata": {
    "collapsed": true,
    "execution": {
     "iopub.execute_input": "2024-12-22T16:02:44.308161Z",
     "iopub.status.busy": "2024-12-22T16:02:44.307817Z",
     "iopub.status.idle": "2024-12-22T16:02:44.351606Z",
     "shell.execute_reply": "2024-12-22T16:02:44.350597Z",
     "shell.execute_reply.started": "2024-12-22T16:02:44.308132Z"
    },
    "id": "ygXOZBTphUph",
    "jupyter": {
     "outputs_hidden": true
    },
    "trusted": true
   },
   "outputs": [],
   "source": [
    "print(densenet.summary())   "
   ]
  },
  {
   "cell_type": "code",
   "execution_count": null,
   "metadata": {
    "execution": {
     "iopub.execute_input": "2024-12-22T16:02:48.189914Z",
     "iopub.status.busy": "2024-12-22T16:02:48.189577Z",
     "iopub.status.idle": "2024-12-22T16:02:48.925838Z",
     "shell.execute_reply": "2024-12-22T16:02:48.925153Z",
     "shell.execute_reply.started": "2024-12-22T16:02:48.189889Z"
    },
    "id": "Dd5KiZj5hXhf",
    "trusted": true
   },
   "outputs": [],
   "source": [
    "model = Sequential() #  modelimizi çağırdık\n",
    "\n",
    "model.add(densenet) \n",
    "model.add(Flatten()) \n",
    "model.add(Dense(1024, activation='relu'))\n",
    "model.add(Dropout(0.2))\n",
    "model.add(Dense(6,activation='softmax'))"
   ]
  },
  {
   "cell_type": "code",
   "execution_count": null,
   "metadata": {
    "execution": {
     "iopub.execute_input": "2024-12-22T16:02:50.299772Z",
     "iopub.status.busy": "2024-12-22T16:02:50.298894Z",
     "iopub.status.idle": "2024-12-22T16:02:50.313132Z",
     "shell.execute_reply": "2024-12-22T16:02:50.312193Z",
     "shell.execute_reply.started": "2024-12-22T16:02:50.299741Z"
    },
    "id": "28UpvizUhYwt",
    "trusted": true
   },
   "outputs": [],
   "source": [
    "for layer in densenet.layers[:-3]:   # Son 3 katmanı donduruyoruz\n",
    "    layer.trainable = False     "
   ]
  },
  {
   "cell_type": "code",
   "execution_count": null,
   "metadata": {
    "execution": {
     "iopub.execute_input": "2024-12-22T16:02:53.700567Z",
     "iopub.status.busy": "2024-12-22T16:02:53.700109Z",
     "iopub.status.idle": "2024-12-22T16:02:53.713789Z",
     "shell.execute_reply": "2024-12-22T16:02:53.713034Z",
     "shell.execute_reply.started": "2024-12-22T16:02:53.700531Z"
    },
    "id": "BWmj-4dXhcQl",
    "trusted": true
   },
   "outputs": [],
   "source": [
    "model.compile(loss='categorical_crossentropy',\n",
    "             optimizer=RMSprop(learning_rate=1e-4),\n",
    "             metrics=['accuracy'])"
   ]
  },
  {
   "cell_type": "code",
   "execution_count": null,
   "metadata": {
    "execution": {
     "iopub.execute_input": "2024-12-22T16:02:55.746288Z",
     "iopub.status.busy": "2024-12-22T16:02:55.745738Z",
     "iopub.status.idle": "2024-12-22T16:16:21.809090Z",
     "shell.execute_reply": "2024-12-22T16:16:21.808035Z",
     "shell.execute_reply.started": "2024-12-22T16:02:55.746257Z"
    },
    "id": "b4KKsrjhheDa",
    "trusted": true
   },
   "outputs": [],
   "source": [
    "es = EarlyStopping(monitor='val_loss',mode='min', verbose=1, patience=10)\n",
    "mc = ModelCheckpoint('/kaggle/working/densenet121_best.h5', monitor='val_acc',mode='max',verbose=1, save_best_only=True)\n",
    "\n",
    "history = model.fit(\n",
    "    train_generator,\n",
    "    steps_per_epoch = train_generator.samples/train_generator.batch_size,\n",
    "    epochs=30,\n",
    "    validation_data = validation_generator,\n",
    "    validation_steps = validation_generator.samples/validation_generator.batch_size,\n",
    "    verbose=1,\n",
    "    callbacks = [es,mc])\n",
    "\n",
    "model.save('/kaggle/working/densenet121_all.h5')"
   ]
  },
  {
   "cell_type": "code",
   "execution_count": null,
   "metadata": {
    "execution": {
     "iopub.execute_input": "2024-12-22T16:17:14.788732Z",
     "iopub.status.busy": "2024-12-22T16:17:14.787807Z",
     "iopub.status.idle": "2024-12-22T16:17:16.414832Z",
     "shell.execute_reply": "2024-12-22T16:17:16.414053Z",
     "shell.execute_reply.started": "2024-12-22T16:17:14.788689Z"
    },
    "id": "eXk8lmlYhf8j",
    "trusted": true
   },
   "outputs": [],
   "source": [
    "score = model.evaluate(validation_generator, batch_size=32)\n",
    "print('Score Accuracy : {:.2f}%'.format(score[1]*100))"
   ]
  },
  {
   "cell_type": "code",
   "execution_count": null,
   "metadata": {
    "execution": {
     "iopub.execute_input": "2024-12-22T16:17:18.983847Z",
     "iopub.status.busy": "2024-12-22T16:17:18.983500Z",
     "iopub.status.idle": "2024-12-22T16:17:18.989337Z",
     "shell.execute_reply": "2024-12-22T16:17:18.988232Z",
     "shell.execute_reply.started": "2024-12-22T16:17:18.983819Z"
    },
    "trusted": true
   },
   "outputs": [],
   "source": [
    "print(history.history.keys())"
   ]
  },
  {
   "cell_type": "code",
   "execution_count": null,
   "metadata": {
    "execution": {
     "iopub.execute_input": "2024-12-22T16:17:20.466500Z",
     "iopub.status.busy": "2024-12-22T16:17:20.465795Z",
     "iopub.status.idle": "2024-12-22T16:17:20.861206Z",
     "shell.execute_reply": "2024-12-22T16:17:20.860319Z",
     "shell.execute_reply.started": "2024-12-22T16:17:20.466469Z"
    },
    "id": "YVhhzZNOhiQ7",
    "trusted": true
   },
   "outputs": [],
   "source": [
    "train_acc = history.history['accuracy']\n",
    "val_acc = history.history['val_accuracy']\n",
    "train_loss = history.history['loss']\n",
    "val_loss = history.history['val_loss']\n",
    "\n",
    "epochs = range(1,len(train_acc)+1)\n",
    "\n",
    "plt.plot(epochs, train_acc, 'b*-', label='Training Accuracy')\n",
    "plt.plot(epochs, val_acc, 'r', label='Validation Accuracy')\n",
    "plt.title('Training and Validation Accuracy')\n",
    "plt.legend()\n",
    "         \n",
    "plt.figure()\n",
    "\n",
    "plt.plot(epochs, train_loss, 'b*-', label = 'Training Loss') # b*- mavi renkle ilgili bişey\n",
    "plt.plot(epochs, val_loss, 'r', label = 'Validation Loss')\n",
    "plt.title('Training and Validation Loss')\n",
    "plt.legend()\n",
    "\n",
    "plt.show()"
   ]
  },
  {
   "cell_type": "code",
   "execution_count": null,
   "metadata": {
    "execution": {
     "iopub.execute_input": "2024-12-22T16:17:28.107362Z",
     "iopub.status.busy": "2024-12-22T16:17:28.106638Z",
     "iopub.status.idle": "2024-12-22T16:17:30.076376Z",
     "shell.execute_reply": "2024-12-22T16:17:30.075305Z",
     "shell.execute_reply.started": "2024-12-22T16:17:28.107315Z"
    },
    "id": "UhoVLbl6hjb8",
    "trusted": true
   },
   "outputs": [],
   "source": [
    "x_val, y_val = test_val.next()\n"
   ]
  },
  {
   "cell_type": "code",
   "execution_count": null,
   "metadata": {
    "execution": {
     "iopub.execute_input": "2024-12-22T16:17:31.904295Z",
     "iopub.status.busy": "2024-12-22T16:17:31.903603Z",
     "iopub.status.idle": "2024-12-22T16:17:35.266709Z",
     "shell.execute_reply": "2024-12-22T16:17:35.265853Z",
     "shell.execute_reply.started": "2024-12-22T16:17:31.904258Z"
    },
    "id": "ZVPmKPiThkpS",
    "trusted": true
   },
   "outputs": [],
   "source": [
    "x_test = np.asarray(x_val)\n",
    "print(x_test.shape)\n",
    "\n",
    "y_test = np.asarray(y_val)\n",
    "print(y_test.shape)\n",
    "\n",
    "y_true = y_test\n",
    "\n",
    "pred_Y = model.predict(x_test, batch_size = 32, verbose=True)\n",
    "pred_Y_cat = np.argmax(pred_Y, -1)\n",
    "print(pred_Y_cat)"
   ]
  },
  {
   "cell_type": "code",
   "execution_count": null,
   "metadata": {
    "execution": {
     "iopub.execute_input": "2024-12-22T16:17:38.856265Z",
     "iopub.status.busy": "2024-12-22T16:17:38.855642Z",
     "iopub.status.idle": "2024-12-22T16:17:38.861259Z",
     "shell.execute_reply": "2024-12-22T16:17:38.860221Z",
     "shell.execute_reply.started": "2024-12-22T16:17:38.856232Z"
    },
    "trusted": true
   },
   "outputs": [],
   "source": [
    "print(\"y_true boyutu:\", len(y_true))\n",
    "print(\"pred_Y_cat boyutu:\", len(pred_Y_cat))\n",
    "y_true = test_generator.classes\n",
    "print(\"y_true boyutu:\", len(y_true))\n"
   ]
  },
  {
   "cell_type": "code",
   "execution_count": null,
   "metadata": {
    "execution": {
     "iopub.execute_input": "2024-12-22T16:20:41.697856Z",
     "iopub.status.busy": "2024-12-22T16:20:41.697500Z",
     "iopub.status.idle": "2024-12-22T16:20:41.704989Z",
     "shell.execute_reply": "2024-12-22T16:20:41.704030Z",
     "shell.execute_reply.started": "2024-12-22T16:20:41.697826Z"
    },
    "id": "brqmvar9hnIy",
    "trusted": true
   },
   "outputs": [],
   "source": [
    "from sklearn.metrics import confusion_matrix\n",
    "import pandas as pd\n",
    "y_true = y_true.astype(np.int32)\n",
    "pred_Y_cat = pred_Y_cat.astype(np.int32)\n",
    "\n",
    "cm = confusion_matrix(y_true, pred_Y_cat)\n",
    "\n",
    "print(cm)"
   ]
  },
  {
   "cell_type": "code",
   "execution_count": null,
   "metadata": {
    "execution": {
     "iopub.execute_input": "2024-12-22T16:19:12.824813Z",
     "iopub.status.busy": "2024-12-22T16:19:12.824035Z",
     "iopub.status.idle": "2024-12-22T16:19:12.829738Z",
     "shell.execute_reply": "2024-12-22T16:19:12.828550Z",
     "shell.execute_reply.started": "2024-12-22T16:19:12.824778Z"
    },
    "trusted": true
   },
   "outputs": [],
   "source": [
    "print(y_true.dtype)  # Veri tipi kontrolü\n",
    "print(pred_Y_cat.dtype)"
   ]
  },
  {
   "cell_type": "code",
   "execution_count": null,
   "metadata": {
    "execution": {
     "iopub.execute_input": "2024-12-22T16:21:36.912557Z",
     "iopub.status.busy": "2024-12-22T16:21:36.912101Z",
     "iopub.status.idle": "2024-12-22T16:21:37.488884Z",
     "shell.execute_reply": "2024-12-22T16:21:37.487573Z",
     "shell.execute_reply.started": "2024-12-22T16:21:36.912524Z"
    },
    "id": "Lq9-5b5ahot7",
    "trusted": true
   },
   "outputs": [],
   "source": [
    "cm2 = pd.DataFrame(cm,columns=[\"CARDBOARD\",\"GLASS\",\"METAL\",\"PAPER\",\"PLASTIC\",\"TRASH\"],index=[\"CARDBOARD\",\"GLASS\",\"METAL\",\"PAPER\",\"PLASTIC\",\"TRASH\"])\n",
    "plt.figure(figsize=(6,5))\n",
    "hm = sns.heatmap(cm2,annot=True,fmt ='n')\n",
    "hm.tick_params(labeltop=True,labelbottom=False,top=True,bottom=False)\n",
    "hm.set_xlabel('Model tahmini')\n",
    "hm.xaxis.set_label_position('top')\n",
    "hm.set_ylabel('Gerçek Veriler')"
   ]
  },
  {
   "cell_type": "markdown",
   "metadata": {},
   "source": [
    "# *Densenet121 Modelinin Test Edilmesi*"
   ]
  },
  {
   "cell_type": "code",
   "execution_count": null,
   "metadata": {
    "trusted": true
   },
   "outputs": [],
   "source": [
    "imagePath = '../input/'\n",
    "predict(imagePath)"
   ]
  },
  {
   "cell_type": "code",
   "execution_count": null,
   "metadata": {
    "trusted": true
   },
   "outputs": [],
   "source": [
    "imagePath = '../input/'\n",
    "predict(imagePath)"
   ]
  },
  {
   "cell_type": "code",
   "execution_count": null,
   "metadata": {
    "trusted": true
   },
   "outputs": [],
   "source": [
    "imagePath = '../input/'\n",
    "predict(imagePath)"
   ]
  },
  {
   "cell_type": "code",
   "execution_count": null,
   "metadata": {
    "trusted": true
   },
   "outputs": [],
   "source": [
    "imagePath = '../input/'\n",
    "predict(imagePath)"
   ]
  },
  {
   "cell_type": "code",
   "execution_count": null,
   "metadata": {
    "trusted": true
   },
   "outputs": [],
   "source": [
    "imagePath = '../input/'\n",
    "predict(imagePath)"
   ]
  },
  {
   "cell_type": "code",
   "execution_count": null,
   "metadata": {
    "trusted": true
   },
   "outputs": [],
   "source": [
    "import os\n",
    "import random\n",
    "import matplotlib.pyplot as plt\n",
    "import cv2\n",
    "import numpy as np\n",
    "from tensorflow.keras.preprocessing.image import img_to_array\n",
    "\n",
    "# Verilen predict fonksiyonu kullanılacak\n",
    "\n",
    "def testRandom(test_dir, model, lb):\n",
    "    classes = os.listdir(test_dir)  # Klasördeki sınıf isimlerini al\n",
    "    selected_classes = random.sample(classes, 5)  # 5 rastgele sınıf seç\n",
    "\n",
    "    fig, axes = plt.subplots(1, 5, figsize=(20, 5))  # Görselleri göstermek için bir figür oluştur\n",
    "    fig.suptitle(\"Model Test Sonuçları\", fontsize=16, y=0.95)  # Başlığı biraz yukarı taşı\n",
    "\n",
    "    for i, cls in enumerate(selected_classes):\n",
    "        class_dir = os.path.join(test_dir, cls)\n",
    "        images = os.listdir(class_dir)  # Sınıfa ait görselleri al\n",
    "        selected_image = random.choice(images)  # Rastgele bir görsel seç\n",
    "        image_path = os.path.join(class_dir, selected_image)\n",
    "\n",
    "        # Test ve görselleştirme\n",
    "        try:\n",
    "            result_image = predict(image_path, model, lb)\n",
    "            axes[i].imshow(result_image)\n",
    "            axes[i].set_title(cls, fontsize=12, color='black')  # Başlık rengi eklendi\n",
    "            axes[i].axis('off')\n",
    "        except Exception as e:\n",
    "            print(f\"Hata: {e}\")\n",
    "\n",
    "    plt.tight_layout()  # Elemanlar arası boşlukları optimize et\n",
    "    plt.show()\n",
    "\n",
    "def predict(imagePath, model, lb):\n",
    " \n",
    "    image = cv2.imread(imagePath)\n",
    "    if image is None:\n",
    "        raise ValueError(\"Görsel yüklenemedi.\")\n",
    "    image = cv2.cvtColor(image, cv2.COLOR_BGR2RGB)\n",
    "    output = image.copy()\n",
    "\n",
    "    image = cv2.resize(image, (224, 224))\n",
    "    image = image.astype(\"float\") / 255.0\n",
    "    image = img_to_array(image)\n",
    "    image = np.expand_dims(image, axis=0)\n",
    "\n",
    "    proba = model.predict(image)[0]\n",
    "    idx = np.argmax(proba)\n",
    "    label = lb.classes_[idx]\n",
    "    label_text = f\"{label}: {proba[idx] * 100:.2f}%\"\n",
    "\n",
    "    cv2.putText(output, label_text, (10, 25), cv2.FONT_HERSHEY_SIMPLEX, 0.7, (255, 0, 0), 2)\n",
    "\n",
    "    return output\n",
    "path = '/kaggle/input/split-garbage-dataset/test'\n",
    "# Kullanım örneği:\n",
    "testRandom(path, model, lb)\n"
   ]
  },
  {
   "cell_type": "markdown",
   "metadata": {
    "id": "k4rXauSfh5St"
   },
   "source": [
    "# **InceptionV3 Modeli**"
   ]
  },
  {
   "cell_type": "code",
   "execution_count": null,
   "metadata": {
    "execution": {
     "iopub.execute_input": "2024-12-22T16:22:18.863759Z",
     "iopub.status.busy": "2024-12-22T16:22:18.863085Z",
     "iopub.status.idle": "2024-12-22T16:22:18.869135Z",
     "shell.execute_reply": "2024-12-22T16:22:18.868181Z",
     "shell.execute_reply.started": "2024-12-22T16:22:18.863724Z"
    },
    "id": "O1JuhaUHh9Gt",
    "trusted": true
   },
   "outputs": [],
   "source": [
    "train_datagen = ImageDataGenerator(\n",
    "    rescale = 1/255,\n",
    "    rotation_range = 20,\n",
    "    width_shift_range = 0.2,\n",
    "    height_shift_range = 0.2,\n",
    "    horizontal_flip = True,\n",
    "    vertical_flip = True,\n",
    "    fill_mode = 'nearest')\n",
    "\n",
    "validation_datagen = ImageDataGenerator(rescale = 1./255)\n",
    "test_datagen = ImageDataGenerator(rescale = 1./255)"
   ]
  },
  {
   "cell_type": "code",
   "execution_count": null,
   "metadata": {
    "execution": {
     "iopub.execute_input": "2024-12-22T16:23:14.090461Z",
     "iopub.status.busy": "2024-12-22T16:23:14.090077Z",
     "iopub.status.idle": "2024-12-22T16:23:15.459417Z",
     "shell.execute_reply": "2024-12-22T16:23:15.458475Z",
     "shell.execute_reply.started": "2024-12-22T16:23:14.090429Z"
    },
    "id": "SJ8i4F1NiAWx",
    "trusted": true
   },
   "outputs": [],
   "source": [
    "img_shape = (299,299,3) # InceptionV3 Modelinin istediği shape değerleri\n",
    "\n",
    "train_batch_size = 256 # train için verileri 256'lı gruplar olarak alıyoruz\n",
    "validation_batch_size = 32 # doğrulama için verileri 32'li gruplar olarak veriyoruz\n",
    "\n",
    "len_test = glob('/kaggle/input/split-garbage-dataset/test/*/*')\n",
    "len_test = len(len_test)\n",
    "\n",
    "train_generator = train_datagen.flow_from_directory(\n",
    "    path + 'train',\n",
    "    target_size = (img_shape[0],img_shape[1]),\n",
    "    batch_size = train_batch_size,\n",
    "    class_mode = 'categorical')\n",
    "\n",
    "validation_generator = validation_datagen.flow_from_directory(\n",
    "    path+'valid',\n",
    "    target_size = (img_shape[0],img_shape[1]),\n",
    "    batch_size = validation_batch_size,\n",
    "    class_mode = 'categorical',\n",
    "    shuffle = False)\n",
    "\n",
    "test_generator = test_datagen.flow_from_directory(\n",
    "    path+'test',\n",
    "    target_size = (img_shape[0],img_shape[1]),\n",
    "    batch_size = validation_batch_size,\n",
    "    class_mode = 'categorical',\n",
    "    shuffle=False)\n",
    "\n",
    "test_val = test_datagen.flow_from_directory(\n",
    "            path+'test',\n",
    "            target_size = (img_shape[0], img_shape[1]),\n",
    "            batch_size = len_test,\n",
    "            class_mode = 'categorical',\n",
    "            shuffle=False,)"
   ]
  },
  {
   "cell_type": "code",
   "execution_count": null,
   "metadata": {
    "execution": {
     "iopub.execute_input": "2024-12-22T16:23:19.899919Z",
     "iopub.status.busy": "2024-12-22T16:23:19.899597Z",
     "iopub.status.idle": "2024-12-22T16:23:22.040502Z",
     "shell.execute_reply": "2024-12-22T16:23:22.039767Z",
     "shell.execute_reply.started": "2024-12-22T16:23:19.899894Z"
    },
    "id": "Ha8XnkfgiBmL",
    "trusted": true
   },
   "outputs": [],
   "source": [
    "inception = tensorflow.keras.applications.InceptionV3(weights = 'imagenet',\n",
    "            include_top = False,\n",
    "            input_shape = img_shape)"
   ]
  },
  {
   "cell_type": "code",
   "execution_count": null,
   "metadata": {
    "execution": {
     "iopub.execute_input": "2024-12-22T16:23:28.044678Z",
     "iopub.status.busy": "2024-12-22T16:23:28.044310Z",
     "iopub.status.idle": "2024-12-22T16:23:28.567944Z",
     "shell.execute_reply": "2024-12-22T16:23:28.567252Z",
     "shell.execute_reply.started": "2024-12-22T16:23:28.044651Z"
    },
    "trusted": true
   },
   "outputs": [],
   "source": [
    "model = Sequential() #  modelimizi çağırdık\n",
    "\n",
    "model.add(inception) \n",
    "model.add(Flatten()) \n",
    "model.add(Dense(1024, activation='relu'))\n",
    "model.add(Dropout(0.2))\n",
    "model.add(Dense(6,activation='softmax'))"
   ]
  },
  {
   "cell_type": "code",
   "execution_count": null,
   "metadata": {
    "execution": {
     "iopub.execute_input": "2024-12-22T16:23:30.894914Z",
     "iopub.status.busy": "2024-12-22T16:23:30.894249Z",
     "iopub.status.idle": "2024-12-22T16:23:30.905989Z",
     "shell.execute_reply": "2024-12-22T16:23:30.904973Z",
     "shell.execute_reply.started": "2024-12-22T16:23:30.894881Z"
    },
    "id": "GYpX9a1_iCgU",
    "trusted": true
   },
   "outputs": [],
   "source": [
    "for layer in inception.layers[:-3]:   #  InceptionV3 modeline ait olan son 3 katmanı donduruyoruz\n",
    "    layer.trainable = False  "
   ]
  },
  {
   "cell_type": "code",
   "execution_count": null,
   "metadata": {
    "execution": {
     "iopub.execute_input": "2024-12-22T16:23:32.861884Z",
     "iopub.status.busy": "2024-12-22T16:23:32.861013Z",
     "iopub.status.idle": "2024-12-22T16:23:32.873728Z",
     "shell.execute_reply": "2024-12-22T16:23:32.872923Z",
     "shell.execute_reply.started": "2024-12-22T16:23:32.861851Z"
    },
    "id": "ldxu3AaCifs5",
    "trusted": true
   },
   "outputs": [],
   "source": [
    "model.compile(loss='categorical_crossentropy',\n",
    "             optimizer=RMSprop(learning_rate=1e-4),\n",
    "             metrics=['accuracy'])"
   ]
  },
  {
   "cell_type": "code",
   "execution_count": null,
   "metadata": {
    "execution": {
     "iopub.execute_input": "2024-12-22T16:23:54.052173Z",
     "iopub.status.busy": "2024-12-22T16:23:54.051420Z",
     "iopub.status.idle": "2024-12-22T16:44:42.973679Z",
     "shell.execute_reply": "2024-12-22T16:44:42.972880Z",
     "shell.execute_reply.started": "2024-12-22T16:23:54.052141Z"
    },
    "id": "gvh8ldDOihNe",
    "trusted": true
   },
   "outputs": [],
   "source": [
    "es = EarlyStopping(monitor='val_loss',mode='min', verbose=1, patience=10)\n",
    "mc = ModelCheckpoint('/kaggle/working/inceptionv3_best.h5', monitor='val_acc',mode='max',verbose=1, save_best_only=True)\n",
    "\n",
    "history = model.fit(\n",
    "    train_generator,\n",
    "    steps_per_epoch = train_generator.samples/train_generator.batch_size,\n",
    "    epochs=30,\n",
    "    validation_data = validation_generator,\n",
    "    validation_steps = validation_generator.samples/validation_generator.batch_size,\n",
    "    verbose=1,\n",
    "    callbacks = [es,mc])\n",
    "\n",
    "model.save('/kaggle/working/inceptionv3_all.h5')"
   ]
  },
  {
   "cell_type": "code",
   "execution_count": null,
   "metadata": {
    "execution": {
     "iopub.execute_input": "2024-12-22T16:46:18.780299Z",
     "iopub.status.busy": "2024-12-22T16:46:18.779411Z",
     "iopub.status.idle": "2024-12-22T16:46:21.131488Z",
     "shell.execute_reply": "2024-12-22T16:46:21.130643Z",
     "shell.execute_reply.started": "2024-12-22T16:46:18.780262Z"
    },
    "id": "-WomLQR1iiv9",
    "trusted": true
   },
   "outputs": [],
   "source": [
    "score = model.evaluate(validation_generator, batch_size=32)\n",
    "print('Score Accuracy : {:.2f}%'.format(score[1]*100))"
   ]
  },
  {
   "cell_type": "code",
   "execution_count": null,
   "metadata": {
    "execution": {
     "iopub.execute_input": "2024-12-22T16:46:23.406959Z",
     "iopub.status.busy": "2024-12-22T16:46:23.406154Z",
     "iopub.status.idle": "2024-12-22T16:46:23.785581Z",
     "shell.execute_reply": "2024-12-22T16:46:23.784703Z",
     "shell.execute_reply.started": "2024-12-22T16:46:23.406928Z"
    },
    "id": "9qLOXYiAilEX",
    "trusted": true
   },
   "outputs": [],
   "source": [
    "train_acc = history.history['accuracy']\n",
    "val_acc = history.history['val_accuracy']\n",
    "train_loss = history.history['loss']\n",
    "val_loss = history.history['val_loss']\n",
    "\n",
    "epochs = range(1,len(train_acc)+1)\n",
    "\n",
    "plt.plot(epochs, train_acc, 'b*-', label='Training Accuracy')\n",
    "plt.plot(epochs, val_acc, 'r', label='Validation Accuracy')\n",
    "plt.title('Training and Validation Accuracy')\n",
    "plt.legend()\n",
    "         \n",
    "plt.figure()\n",
    "\n",
    "plt.plot(epochs, train_loss, 'b*-', label = 'Training Loss')\n",
    "plt.plot(epochs, val_loss, 'r', label = 'Validation Loss')\n",
    "plt.title('Training and Validation Loss')\n",
    "plt.legend()\n",
    "\n",
    "plt.show()"
   ]
  },
  {
   "cell_type": "code",
   "execution_count": null,
   "metadata": {
    "execution": {
     "iopub.execute_input": "2024-12-22T16:46:27.449599Z",
     "iopub.status.busy": "2024-12-22T16:46:27.448767Z",
     "iopub.status.idle": "2024-12-22T16:46:34.842290Z",
     "shell.execute_reply": "2024-12-22T16:46:34.841431Z",
     "shell.execute_reply.started": "2024-12-22T16:46:27.449568Z"
    },
    "id": "Ju3WxCx-imMz",
    "trusted": true
   },
   "outputs": [],
   "source": [
    "x_val, y_val = test_val.next()\n",
    "\n",
    "x_test = np.asarray(x_val)\n",
    "print(x_test.shape)\n",
    "\n",
    "y_test = np.asarray(y_val)\n",
    "print(y_test.shape)\n",
    "\n",
    "y_true = y_test\n",
    "\n",
    "pred_Y = model.predict(x_test, batch_size = 32, verbose=True)\n",
    "pred_Y_cat = np.argmax(pred_Y, -1)\n",
    "print(pred_Y_cat)"
   ]
  },
  {
   "cell_type": "code",
   "execution_count": null,
   "metadata": {
    "execution": {
     "iopub.execute_input": "2024-12-22T16:46:38.245678Z",
     "iopub.status.busy": "2024-12-22T16:46:38.244858Z",
     "iopub.status.idle": "2024-12-22T16:46:38.252452Z",
     "shell.execute_reply": "2024-12-22T16:46:38.251420Z",
     "shell.execute_reply.started": "2024-12-22T16:46:38.245641Z"
    },
    "id": "HRIDTLWPin83",
    "trusted": true
   },
   "outputs": [],
   "source": [
    "from sklearn.metrics import confusion_matrix\n",
    "import pandas as pd\n",
    "\n",
    "cm=(confusion_matrix(np.argmax(y_true,-1), pred_Y_cat))\n",
    "print(cm)"
   ]
  },
  {
   "cell_type": "code",
   "execution_count": null,
   "metadata": {
    "execution": {
     "iopub.execute_input": "2024-12-22T16:47:13.631746Z",
     "iopub.status.busy": "2024-12-22T16:47:13.630898Z",
     "iopub.status.idle": "2024-12-22T16:47:13.964896Z",
     "shell.execute_reply": "2024-12-22T16:47:13.964075Z",
     "shell.execute_reply.started": "2024-12-22T16:47:13.631711Z"
    },
    "id": "VdZSp2l_io9B",
    "trusted": true
   },
   "outputs": [],
   "source": [
    "cm2 = pd.DataFrame(cm,columns=[\"CARDBOARD\",\"GLASS\",\"METAL\",\"PAPER\",\"PLASTIC\",\"TRASH\"],index=[\"CARDBOARD\",\"GLASS\",\"METAL\",\"PAPER\",\"PLASTIC\",\"TRASH\"])\n",
    "plt.figure(figsize=(6,5))\n",
    "hm = sns.heatmap(cm2,annot=True,fmt ='n')\n",
    "hm.tick_params(labeltop=True,labelbottom=False,top=True,bottom=False)\n",
    "hm.set_xlabel('Model tahmini')\n",
    "hm.xaxis.set_label_position('top')\n",
    "hm.set_ylabel('Gerçek değerler')"
   ]
  },
  {
   "cell_type": "markdown",
   "metadata": {},
   "source": [
    "# *InceptionV3 Modelinin Test Edilmesi*"
   ]
  },
  {
   "cell_type": "code",
   "execution_count": null,
   "metadata": {
    "trusted": true
   },
   "outputs": [],
   "source": [
    "imagePath = '../input/'\n",
    "predict(imagePath)"
   ]
  },
  {
   "cell_type": "code",
   "execution_count": null,
   "metadata": {
    "trusted": true
   },
   "outputs": [],
   "source": [
    "imagePath = '../input/'\n",
    "predict(imagePath)"
   ]
  },
  {
   "cell_type": "code",
   "execution_count": null,
   "metadata": {
    "trusted": true
   },
   "outputs": [],
   "source": [
    "imagePath = '../input/'\n",
    "predict(imagePath)"
   ]
  },
  {
   "cell_type": "code",
   "execution_count": null,
   "metadata": {
    "trusted": true
   },
   "outputs": [],
   "source": [
    "imagePath = '../input/'\n",
    "predict(imagePath)"
   ]
  },
  {
   "cell_type": "code",
   "execution_count": null,
   "metadata": {
    "trusted": true
   },
   "outputs": [],
   "source": [
    "import os\n",
    "import random\n",
    "import matplotlib.pyplot as plt\n",
    "import cv2\n",
    "import numpy as np\n",
    "from tensorflow.keras.preprocessing.image import img_to_array\n",
    "\n",
    "# Verilen predict fonksiyonu kullanılacak\n",
    "\n",
    "def testRandom(test_dir, model, lb):\n",
    "    classes = os.listdir(test_dir)  # Klasördeki sınıf isimlerini al\n",
    "    selected_classes = random.sample(classes, 5)  # 5 rastgele sınıf seç\n",
    "\n",
    "    fig, axes = plt.subplots(1, 5, figsize=(20, 5))  # Görselleri göstermek için bir figür oluştur\n",
    "    fig.suptitle(\"Model Test Sonuçları\", fontsize=16, y=0.95)  # Başlığı biraz yukarı taşı\n",
    "\n",
    "    for i, cls in enumerate(selected_classes):\n",
    "        class_dir = os.path.join(test_dir, cls)\n",
    "        images = os.listdir(class_dir)  # Sınıfa ait görselleri al\n",
    "        selected_image = random.choice(images)  # Rastgele bir görsel seç\n",
    "        image_path = os.path.join(class_dir, selected_image)\n",
    "\n",
    "        # Test ve görselleştirme\n",
    "        try:\n",
    "            result_image = predict(image_path, model, lb)\n",
    "            axes[i].imshow(result_image)\n",
    "            axes[i].set_title(cls, fontsize=12, color='black')  # Başlık rengi eklendi\n",
    "            axes[i].axis('off')\n",
    "        except Exception as e:\n",
    "            print(f\"Hata: {e}\")\n",
    "\n",
    "    plt.tight_layout()  # Elemanlar arası boşlukları optimize et\n",
    "    plt.show()\n",
    "\n",
    "def predict(imagePath, model, lb):\n",
    " \n",
    "    image = cv2.imread(imagePath)\n",
    "    if image is None:\n",
    "        raise ValueError(\"Görsel yüklenemedi.\")\n",
    "    image = cv2.cvtColor(image, cv2.COLOR_BGR2RGB)\n",
    "    output = image.copy()\n",
    "\n",
    "    image = cv2.resize(image, (224, 224))\n",
    "    image = image.astype(\"float\") / 255.0\n",
    "    image = img_to_array(image)\n",
    "    image = np.expand_dims(image, axis=0)\n",
    "\n",
    "    proba = model.predict(image)[0]\n",
    "    idx = np.argmax(proba)\n",
    "    label = lb.classes_[idx]\n",
    "    label_text = f\"{label}: {proba[idx] * 100:.2f}%\"\n",
    "\n",
    "    cv2.putText(output, label_text, (10, 25), cv2.FONT_HERSHEY_SIMPLEX, 0.7, (255, 0, 0), 2)\n",
    "\n",
    "    return output\n",
    "path = '/kaggle/input/split-garbage-dataset/test'\n",
    "# Kullanım örneği:\n",
    "testRandom(path, model, lb)\n"
   ]
  },
  {
   "cell_type": "markdown",
   "metadata": {},
   "source": [
    "# **VGG16 Modeli**"
   ]
  },
  {
   "cell_type": "code",
   "execution_count": null,
   "metadata": {
    "execution": {
     "iopub.execute_input": "2024-12-22T16:50:22.512756Z",
     "iopub.status.busy": "2024-12-22T16:50:22.512391Z",
     "iopub.status.idle": "2024-12-22T16:50:22.517575Z",
     "shell.execute_reply": "2024-12-22T16:50:22.516675Z",
     "shell.execute_reply.started": "2024-12-22T16:50:22.512727Z"
    },
    "trusted": true
   },
   "outputs": [],
   "source": [
    "train_datagen = ImageDataGenerator(\n",
    "    rescale = 1/255,\n",
    "    rotation_range = 20,\n",
    "    width_shift_range = 0.2,\n",
    "    height_shift_range = 0.2,\n",
    "    horizontal_flip = True,\n",
    "    vertical_flip = True,\n",
    "    fill_mode = 'nearest')"
   ]
  },
  {
   "cell_type": "code",
   "execution_count": null,
   "metadata": {
    "execution": {
     "iopub.execute_input": "2024-12-22T16:50:24.769644Z",
     "iopub.status.busy": "2024-12-22T16:50:24.769273Z",
     "iopub.status.idle": "2024-12-22T16:50:24.774615Z",
     "shell.execute_reply": "2024-12-22T16:50:24.773605Z",
     "shell.execute_reply.started": "2024-12-22T16:50:24.769614Z"
    },
    "trusted": true
   },
   "outputs": [],
   "source": [
    "validation_datagen = ImageDataGenerator(rescale = 1./255)\n",
    "test_datagen = ImageDataGenerator(rescale = 1./255)"
   ]
  },
  {
   "cell_type": "code",
   "execution_count": null,
   "metadata": {
    "execution": {
     "iopub.execute_input": "2024-12-22T16:50:27.248609Z",
     "iopub.status.busy": "2024-12-22T16:50:27.248024Z",
     "iopub.status.idle": "2024-12-22T16:50:29.324851Z",
     "shell.execute_reply": "2024-12-22T16:50:29.323903Z",
     "shell.execute_reply.started": "2024-12-22T16:50:27.248576Z"
    },
    "trusted": true
   },
   "outputs": [],
   "source": [
    "img_shape = (224,224,3) # VGG16 Modelinin istediği shape değerleri\n",
    "\n",
    "train_batch_size = 256 # train için verileri 256'lı gruplar olarak alıyoruz\n",
    "validation_batch_size = 32 # doğrulama için verileri 32'li gruplar olarak veriyoruz\n",
    "\n",
    "len_test = glob('/kaggle/input/split-garbage-dataset/test/*/*')\n",
    "len_test = len(len_test)\n",
    "\n",
    "train_generator = train_datagen.flow_from_directory(\n",
    "    path + 'train',\n",
    "    target_size = (img_shape[0],img_shape[1]),\n",
    "    batch_size = train_batch_size,\n",
    "    class_mode = 'categorical')\n",
    "\n",
    "validation_generator = validation_datagen.flow_from_directory(\n",
    "    path+'valid',\n",
    "    target_size = (img_shape[0],img_shape[1]),\n",
    "    batch_size = validation_batch_size,\n",
    "    class_mode = 'categorical',\n",
    "    shuffle = False)\n",
    "\n",
    "test_generator = test_datagen.flow_from_directory(\n",
    "    path+'test',\n",
    "    target_size = (img_shape[0],img_shape[1]),\n",
    "    batch_size = validation_batch_size,\n",
    "    class_mode = 'categorical',\n",
    "    shuffle=False)\n",
    "\n",
    "test_val = test_datagen.flow_from_directory(\n",
    "            path+'test',\n",
    "            target_size = (img_shape[0], img_shape[1]),\n",
    "            batch_size = len_test,\n",
    "            class_mode = 'categorical',\n",
    "            shuffle=False,)"
   ]
  },
  {
   "cell_type": "code",
   "execution_count": null,
   "metadata": {
    "execution": {
     "iopub.execute_input": "2024-12-22T16:50:32.287039Z",
     "iopub.status.busy": "2024-12-22T16:50:32.286717Z",
     "iopub.status.idle": "2024-12-22T16:50:32.929835Z",
     "shell.execute_reply": "2024-12-22T16:50:32.929104Z",
     "shell.execute_reply.started": "2024-12-22T16:50:32.287013Z"
    },
    "trusted": true
   },
   "outputs": [],
   "source": [
    "vgg = tensorflow.keras.applications.VGG16(weights = 'imagenet',\n",
    "            include_top = False,\n",
    "            input_shape = img_shape)"
   ]
  },
  {
   "cell_type": "code",
   "execution_count": null,
   "metadata": {
    "execution": {
     "iopub.execute_input": "2024-12-22T16:50:36.211466Z",
     "iopub.status.busy": "2024-12-22T16:50:36.210727Z",
     "iopub.status.idle": "2024-12-22T16:50:36.298811Z",
     "shell.execute_reply": "2024-12-22T16:50:36.298061Z",
     "shell.execute_reply.started": "2024-12-22T16:50:36.211434Z"
    },
    "trusted": true
   },
   "outputs": [],
   "source": [
    "model = Sequential() #  modelimizi çağırdık\n",
    "\n",
    "model.add(vgg) \n",
    "model.add(Flatten()) \n",
    "model.add(Dense(1024, activation='relu'))\n",
    "model.add(Dropout(0.2))\n",
    "model.add(Dense(6,activation='softmax'))"
   ]
  },
  {
   "cell_type": "code",
   "execution_count": null,
   "metadata": {
    "execution": {
     "iopub.execute_input": "2024-12-22T16:50:39.286932Z",
     "iopub.status.busy": "2024-12-22T16:50:39.286248Z",
     "iopub.status.idle": "2024-12-22T16:50:39.291904Z",
     "shell.execute_reply": "2024-12-22T16:50:39.290739Z",
     "shell.execute_reply.started": "2024-12-22T16:50:39.286900Z"
    },
    "trusted": true
   },
   "outputs": [],
   "source": [
    "for layer in vgg.layers[:-3]:   #  VGG16 modeline ait olan son 3 nöronu donduruyoruz\n",
    "    layer.trainable = False  "
   ]
  },
  {
   "cell_type": "code",
   "execution_count": null,
   "metadata": {
    "execution": {
     "iopub.execute_input": "2024-12-22T16:50:42.072228Z",
     "iopub.status.busy": "2024-12-22T16:50:42.071425Z",
     "iopub.status.idle": "2024-12-22T16:50:42.083704Z",
     "shell.execute_reply": "2024-12-22T16:50:42.082612Z",
     "shell.execute_reply.started": "2024-12-22T16:50:42.072187Z"
    },
    "trusted": true
   },
   "outputs": [],
   "source": [
    "model.compile(loss='categorical_crossentropy',\n",
    "             optimizer=RMSprop(learning_rate=1e-4),\n",
    "             metrics=['accuracy'])"
   ]
  },
  {
   "cell_type": "code",
   "execution_count": null,
   "metadata": {
    "execution": {
     "iopub.execute_input": "2024-12-22T16:50:59.393680Z",
     "iopub.status.busy": "2024-12-22T16:50:59.392719Z",
     "iopub.status.idle": "2024-12-22T17:06:00.586076Z",
     "shell.execute_reply": "2024-12-22T17:06:00.585238Z",
     "shell.execute_reply.started": "2024-12-22T16:50:59.393643Z"
    },
    "trusted": true
   },
   "outputs": [],
   "source": [
    "es = EarlyStopping(monitor='val_loss',mode='min', verbose=1, patience=10)\n",
    "mc = ModelCheckpoint('/kaggle/working/vgg16_best.h5', monitor='val_acc',mode='max',verbose=1, save_best_only=True)\n",
    "\n",
    "history = model.fit(\n",
    "    train_generator,\n",
    "    steps_per_epoch = train_generator.samples/train_generator.batch_size,\n",
    "    epochs=30,\n",
    "    validation_data = validation_generator,\n",
    "    validation_steps = validation_generator.samples/validation_generator.batch_size,\n",
    "    verbose=1,\n",
    "    callbacks = [es,mc])\n",
    "\n",
    "model.save('/kaggle/working/vgg16_all.h5')"
   ]
  },
  {
   "cell_type": "code",
   "execution_count": null,
   "metadata": {
    "execution": {
     "iopub.execute_input": "2024-12-22T17:18:59.592296Z",
     "iopub.status.busy": "2024-12-22T17:18:59.587068Z",
     "iopub.status.idle": "2024-12-22T17:19:01.652370Z",
     "shell.execute_reply": "2024-12-22T17:19:01.651318Z",
     "shell.execute_reply.started": "2024-12-22T17:18:59.592235Z"
    },
    "trusted": true
   },
   "outputs": [],
   "source": [
    "score = model.evaluate(validation_generator, batch_size=32)\n",
    "print('Score Accuracy : {:.2f}%'.format(score[1]*100))"
   ]
  },
  {
   "cell_type": "code",
   "execution_count": null,
   "metadata": {
    "execution": {
     "iopub.execute_input": "2024-12-22T17:19:04.224316Z",
     "iopub.status.busy": "2024-12-22T17:19:04.223975Z",
     "iopub.status.idle": "2024-12-22T17:19:04.619655Z",
     "shell.execute_reply": "2024-12-22T17:19:04.618766Z",
     "shell.execute_reply.started": "2024-12-22T17:19:04.224288Z"
    },
    "trusted": true
   },
   "outputs": [],
   "source": [
    "train_acc = history.history['accuracy']\n",
    "val_acc = history.history['val_accuracy']\n",
    "train_loss = history.history['loss']\n",
    "val_loss = history.history['val_loss']\n",
    "\n",
    "epochs = range(1,len(train_acc)+1)\n",
    "\n",
    "plt.plot(epochs, train_acc, 'b*-', label='Training Accuracy')\n",
    "plt.plot(epochs, val_acc, 'r', label='Validation Accuracy')\n",
    "plt.title('Training and Validation Accuracy')\n",
    "plt.legend()\n",
    "         \n",
    "plt.figure()\n",
    "\n",
    "plt.plot(epochs, train_loss, 'b*-', label = 'Training Loss') \n",
    "plt.plot(epochs, val_loss, 'r', label = 'Validation Loss')\n",
    "plt.title('Training and Validation Loss')\n",
    "plt.legend()\n",
    "\n",
    "plt.show()"
   ]
  },
  {
   "cell_type": "code",
   "execution_count": null,
   "metadata": {
    "execution": {
     "iopub.execute_input": "2024-12-22T17:19:08.516183Z",
     "iopub.status.busy": "2024-12-22T17:19:08.515838Z",
     "iopub.status.idle": "2024-12-22T17:19:16.162592Z",
     "shell.execute_reply": "2024-12-22T17:19:16.161786Z",
     "shell.execute_reply.started": "2024-12-22T17:19:08.516154Z"
    },
    "trusted": true
   },
   "outputs": [],
   "source": [
    "x_val, y_val = test_val.next()\n",
    "\n",
    "x_test = np.asarray(x_val)\n",
    "print(x_test.shape)\n",
    "\n",
    "y_test = np.asarray(y_val)\n",
    "print(y_test.shape)\n",
    "\n",
    "y_true = y_test\n",
    "\n",
    "pred_Y = model.predict(x_test, batch_size = 32, verbose=True)\n",
    "pred_Y_cat = np.argmax(pred_Y, -1)\n",
    "print(pred_Y_cat)"
   ]
  },
  {
   "cell_type": "code",
   "execution_count": null,
   "metadata": {
    "execution": {
     "iopub.execute_input": "2024-12-22T17:19:21.341989Z",
     "iopub.status.busy": "2024-12-22T17:19:21.341633Z",
     "iopub.status.idle": "2024-12-22T17:19:21.346578Z",
     "shell.execute_reply": "2024-12-22T17:19:21.345501Z",
     "shell.execute_reply.started": "2024-12-22T17:19:21.341958Z"
    },
    "trusted": true
   },
   "outputs": [],
   "source": [
    "from sklearn.metrics import confusion_matrix\n",
    "import pandas as pd"
   ]
  },
  {
   "cell_type": "code",
   "execution_count": null,
   "metadata": {
    "execution": {
     "iopub.execute_input": "2024-12-22T17:19:23.118476Z",
     "iopub.status.busy": "2024-12-22T17:19:23.117909Z",
     "iopub.status.idle": "2024-12-22T17:19:23.124756Z",
     "shell.execute_reply": "2024-12-22T17:19:23.123796Z",
     "shell.execute_reply.started": "2024-12-22T17:19:23.118445Z"
    },
    "trusted": true
   },
   "outputs": [],
   "source": [
    "cm=(confusion_matrix(np.argmax(y_true,-1), pred_Y_cat))\n",
    "print(cm)"
   ]
  },
  {
   "cell_type": "code",
   "execution_count": null,
   "metadata": {
    "execution": {
     "iopub.execute_input": "2024-12-22T17:20:01.758926Z",
     "iopub.status.busy": "2024-12-22T17:20:01.758168Z",
     "iopub.status.idle": "2024-12-22T17:20:02.334091Z",
     "shell.execute_reply": "2024-12-22T17:20:02.332802Z",
     "shell.execute_reply.started": "2024-12-22T17:20:01.758889Z"
    },
    "trusted": true
   },
   "outputs": [],
   "source": [
    "cm2 = pd.DataFrame(cm,columns=[\"CARDBOARD\",\"GLASS\",\"METAL\",\"PAPER\",\"PLASTIC\",\"TRASH\"],index=[\"CARDBOARD\",\"GLASS\",\"METAL\",\"PAPER\",\"PLASTIC\",\"TRASH\"])\n",
    "plt.figure(figsize=(6,5))\n",
    "hm = sns.heatmap(cm2,annot=True,fmt ='n')\n",
    "hm.tick_params(labeltop=True,labelbottom=False,top=True,bottom=False)\n",
    "hm.set_xlabel('Model tahmini')\n",
    "hm.xaxis.set_label_position('top')\n",
    "hm.set_ylabel('Gerçek değerler')"
   ]
  },
  {
   "cell_type": "markdown",
   "metadata": {},
   "source": [
    "# *VGG16 Modelinin Test Edilmesi*"
   ]
  },
  {
   "cell_type": "code",
   "execution_count": null,
   "metadata": {
    "trusted": true
   },
   "outputs": [],
   "source": [
    "imagePath = '../input/'\n",
    "predict(imagePath)"
   ]
  },
  {
   "cell_type": "code",
   "execution_count": null,
   "metadata": {
    "trusted": true
   },
   "outputs": [],
   "source": [
    "imagePath = '../input/'\n",
    "predict(imagePath)"
   ]
  },
  {
   "cell_type": "code",
   "execution_count": null,
   "metadata": {
    "trusted": true
   },
   "outputs": [],
   "source": [
    "imagePath = '../input/'\n",
    "predict(imagePath)"
   ]
  },
  {
   "cell_type": "code",
   "execution_count": null,
   "metadata": {
    "trusted": true
   },
   "outputs": [],
   "source": [
    "imagePath = '../input/'\n",
    "predict(imagePath)"
   ]
  },
  {
   "cell_type": "code",
   "execution_count": null,
   "metadata": {
    "trusted": true
   },
   "outputs": [],
   "source": [
    "import os\n",
    "import random\n",
    "import matplotlib.pyplot as plt\n",
    "import cv2\n",
    "import numpy as np\n",
    "from tensorflow.keras.preprocessing.image import img_to_array\n",
    "\n",
    "# Verilen predict fonksiyonu kullanılacak\n",
    "\n",
    "def testRandom(test_dir, model, lb):\n",
    "    classes = os.listdir(test_dir)  # Klasördeki sınıf isimlerini al\n",
    "    selected_classes = random.sample(classes, 5)  # 5 rastgele sınıf seç\n",
    "\n",
    "    fig, axes = plt.subplots(1, 5, figsize=(20, 5))  # Görselleri göstermek için bir figür oluştur\n",
    "    fig.suptitle(\"Model Test Sonuçları\", fontsize=16, y=0.95)  # Başlığı biraz yukarı taşı\n",
    "\n",
    "    for i, cls in enumerate(selected_classes):\n",
    "        class_dir = os.path.join(test_dir, cls)\n",
    "        images = os.listdir(class_dir)  # Sınıfa ait görselleri al\n",
    "        selected_image = random.choice(images)  # Rastgele bir görsel seç\n",
    "        image_path = os.path.join(class_dir, selected_image)\n",
    "\n",
    "        # Test ve görselleştirme\n",
    "        try:\n",
    "            result_image = predict(image_path, model, lb)\n",
    "            axes[i].imshow(result_image)\n",
    "            axes[i].set_title(cls, fontsize=12, color='black')  # Başlık rengi eklendi\n",
    "            axes[i].axis('off')\n",
    "        except Exception as e:\n",
    "            print(f\"Hata: {e}\")\n",
    "\n",
    "    plt.tight_layout()  # Elemanlar arası boşlukları optimize et\n",
    "    plt.show()\n",
    "\n",
    "def predict(imagePath, model, lb):\n",
    " \n",
    "    image = cv2.imread(imagePath)\n",
    "    if image is None:\n",
    "        raise ValueError(\"Görsel yüklenemedi.\")\n",
    "    image = cv2.cvtColor(image, cv2.COLOR_BGR2RGB)\n",
    "    output = image.copy()\n",
    "\n",
    "    image = cv2.resize(image, (224, 224))\n",
    "    image = image.astype(\"float\") / 255.0\n",
    "    image = img_to_array(image)\n",
    "    image = np.expand_dims(image, axis=0)\n",
    "\n",
    "    proba = model.predict(image)[0]\n",
    "    idx = np.argmax(proba)\n",
    "    label = lb.classes_[idx]\n",
    "    label_text = f\"{label}: {proba[idx] * 100:.2f}%\"\n",
    "\n",
    "    cv2.putText(output, label_text, (10, 25), cv2.FONT_HERSHEY_SIMPLEX, 0.7, (255, 0, 0), 2)\n",
    "\n",
    "    return output\n",
    "path = '/kaggle/input/split-garbage-dataset/test'\n",
    "# Kullanım örneği:\n",
    "testRandom(path, model, lb)\n"
   ]
  },
  {
   "cell_type": "markdown",
   "metadata": {},
   "source": [
    "# **VGG19 Modeli**"
   ]
  },
  {
   "cell_type": "code",
   "execution_count": 5,
   "metadata": {
    "execution": {
     "iopub.execute_input": "2024-12-23T10:39:51.373190Z",
     "iopub.status.busy": "2024-12-23T10:39:51.372833Z",
     "iopub.status.idle": "2024-12-23T10:39:51.379368Z",
     "shell.execute_reply": "2024-12-23T10:39:51.378342Z",
     "shell.execute_reply.started": "2024-12-23T10:39:51.373161Z"
    },
    "trusted": true
   },
   "outputs": [],
   "source": [
    "from tensorflow.keras.applications import VGG19\n",
    "\n",
    "train_datagen = ImageDataGenerator( # Veri ön işleme adımları\n",
    "    rescale = 1./255,  # Normalize\n",
    "    rotation_range = 20,  # 20 derecelik açıyla döndürme işlemleri\n",
    "    width_shift_range = 0.2, # Görüntünün %20 kadarlık kısmını yatayda kaydırır\n",
    "    height_shift_range = 0.2, # Görüntünün %20 kadarlık kısmını dikeyde kaydırır\n",
    "    horizontal_flip = True,  # Görüntünün yatayda rastgele bir şekilde ters çevrilmesini sağlar\n",
    "    vertical_flip = True, # Görüntünün dikeyde rastgele bir şekilde ters çevrilmesini sağlar\n",
    "    fill_mode = 'nearest') # Görüntüler kaydırıldığında oluşan boşluklar komşu piksel değerleriyle doldurulur\n",
    " \n",
    "validation_datagen = ImageDataGenerator(rescale = 1./255) # Validation verileri normalize edilir\n",
    "test_datagen = ImageDataGenerator(rescale = 1./255)  # Test verileri normalize edilir"
   ]
  },
  {
   "cell_type": "code",
   "execution_count": 8,
   "metadata": {
    "execution": {
     "iopub.execute_input": "2024-12-23T10:40:36.849881Z",
     "iopub.status.busy": "2024-12-23T10:40:36.849502Z",
     "iopub.status.idle": "2024-12-23T10:40:38.030101Z",
     "shell.execute_reply": "2024-12-23T10:40:38.029226Z",
     "shell.execute_reply.started": "2024-12-23T10:40:36.849852Z"
    },
    "trusted": true
   },
   "outputs": [
    {
     "name": "stdout",
     "output_type": "stream",
     "text": [
      "Found 1768 images belonging to 6 classes.\n",
      "Found 328 images belonging to 6 classes.\n",
      "Found 431 images belonging to 6 classes.\n"
     ]
    }
   ],
   "source": [
    "img_shape = (224, 224, 3) # Modelin giriş boyutlarını bu şekilde ayarlayarak tüm görüntüleri aynı boyuta getiriyoruz\n",
    "\n",
    "train_batch_size = 256\n",
    "val_batch_size = 32\n",
    "\n",
    "train_generator = train_datagen.flow_from_directory( # Belirtilen veri klasöründen görüntüleri yüklüyoruz\n",
    "            path + 'train', \n",
    "            target_size = (img_shape[0], img_shape[1]), # Her görüntü 224x224 piksel boyutuna yeniden boyutlandırılıyor\n",
    "            batch_size = train_batch_size, # Her batch te yukarıda belirttiğimiz adette görüntü olacak \n",
    "            class_mode = 'categorical',) # Birden fazla sınıf olduğunu belirtiyoruz  \n",
    "\n",
    "# Aynı işlemleri validation ve test verileri içinde yapıyoruz  \n",
    "\n",
    "validation_generator = validation_datagen.flow_from_directory(\n",
    "            path + 'valid',\n",
    "            target_size = (img_shape[0], img_shape[1]),\n",
    "            batch_size = val_batch_size,\n",
    "            class_mode = 'categorical',\n",
    "            shuffle=False)\n",
    "\n",
    "test_generator = test_datagen.flow_from_directory(\n",
    "            path + 'test',\n",
    "            target_size = (img_shape[0], img_shape[1]),\n",
    "            batch_size = val_batch_size,\n",
    "            class_mode = 'categorical',\n",
    "            shuffle=False,)"
   ]
  },
  {
   "cell_type": "code",
   "execution_count": 9,
   "metadata": {
    "execution": {
     "iopub.execute_input": "2024-12-23T10:40:41.539752Z",
     "iopub.status.busy": "2024-12-23T10:40:41.538905Z",
     "iopub.status.idle": "2024-12-23T10:40:45.726333Z",
     "shell.execute_reply": "2024-12-23T10:40:45.725549Z",
     "shell.execute_reply.started": "2024-12-23T10:40:41.539719Z"
    },
    "trusted": true
   },
   "outputs": [
    {
     "name": "stdout",
     "output_type": "stream",
     "text": [
      "Downloading data from https://storage.googleapis.com/tensorflow/keras-applications/vgg19/vgg19_weights_tf_dim_ordering_tf_kernels_notop.h5\n",
      "80142336/80134624 [==============================] - 0s 0us/step\n",
      "80150528/80134624 [==============================] - 0s 0us/step\n"
     ]
    }
   ],
   "source": [
    "vgg = VGG19(weights = 'imagenet', # ImageNet üzerinde eğitilmiş VGG19 adlı mimariyi alıyoruz \n",
    "              include_top = False, # Son katman olan output katmanını almıyoruz biz kendi çıktı katmanımızı ekleyeceğiz\n",
    "              input_shape = img_shape) # Girdi boyutları"
   ]
  },
  {
   "cell_type": "code",
   "execution_count": 11,
   "metadata": {
    "execution": {
     "iopub.execute_input": "2024-12-23T10:40:50.112082Z",
     "iopub.status.busy": "2024-12-23T10:40:50.111728Z",
     "iopub.status.idle": "2024-12-23T10:40:50.117491Z",
     "shell.execute_reply": "2024-12-23T10:40:50.116491Z",
     "shell.execute_reply.started": "2024-12-23T10:40:50.112046Z"
    },
    "trusted": true
   },
   "outputs": [],
   "source": [
    "for layer in vgg.layers[:-3]: # Son 3 katmanı donduruyoruz \n",
    "    layer.trainable = False"
   ]
  },
  {
   "cell_type": "code",
   "execution_count": 12,
   "metadata": {
    "execution": {
     "iopub.execute_input": "2024-12-23T10:40:53.097739Z",
     "iopub.status.busy": "2024-12-23T10:40:53.096831Z",
     "iopub.status.idle": "2024-12-23T10:40:53.185239Z",
     "shell.execute_reply": "2024-12-23T10:40:53.184477Z",
     "shell.execute_reply.started": "2024-12-23T10:40:53.097704Z"
    },
    "trusted": true
   },
   "outputs": [],
   "source": [
    "model = Sequential()   # Katmanların sıralı bir şekilde eklenilmesini sağlar \n",
    " \n",
    "model.add(vgg) # Daha önce tanımladığımız VGG19 modelini ekleriz (son 3 katman hariç)\n",
    "   \n",
    "model.add(Flatten()) # Görüntü boyutlarını tek boyutlu bir vektöre dönüştürüyoruz\n",
    "model.add(Dense(1024, activation='relu')) # 1024 nöronlu tam bağlantılı relu aktivaston fonk ekliyoruz (-1,-2,-5 --> 0  &  1,2,3 -->1,2,3) \n",
    "model.add(Dropout(0.2))  # %20 oranında bağlantıları kapatarak modelin genelleme yeteneğini artırır\n",
    "model.add(Dense(6, activation='softmax'))  # Sınıflandırılmanın yapılacağı katman"
   ]
  },
  {
   "cell_type": "code",
   "execution_count": 13,
   "metadata": {
    "execution": {
     "iopub.execute_input": "2024-12-23T10:40:56.170908Z",
     "iopub.status.busy": "2024-12-23T10:40:56.169909Z",
     "iopub.status.idle": "2024-12-23T10:40:56.178320Z",
     "shell.execute_reply": "2024-12-23T10:40:56.177268Z",
     "shell.execute_reply.started": "2024-12-23T10:40:56.170862Z"
    },
    "trusted": true
   },
   "outputs": [
    {
     "name": "stdout",
     "output_type": "stream",
     "text": [
      "Model: \"sequential\"\n",
      "_________________________________________________________________\n",
      "Layer (type)                 Output Shape              Param #   \n",
      "=================================================================\n",
      "vgg19 (Functional)           (None, 7, 7, 512)         20024384  \n",
      "_________________________________________________________________\n",
      "flatten (Flatten)            (None, 25088)             0         \n",
      "_________________________________________________________________\n",
      "dense (Dense)                (None, 1024)              25691136  \n",
      "_________________________________________________________________\n",
      "dropout (Dropout)            (None, 1024)              0         \n",
      "_________________________________________________________________\n",
      "dense_1 (Dense)              (None, 6)                 6150      \n",
      "=================================================================\n",
      "Total params: 45,721,670\n",
      "Trainable params: 30,416,902\n",
      "Non-trainable params: 15,304,768\n",
      "_________________________________________________________________\n"
     ]
    }
   ],
   "source": [
    "model.summary() # Modelimizin yapısı görüntülüyoruz"
   ]
  },
  {
   "cell_type": "code",
   "execution_count": 14,
   "metadata": {
    "execution": {
     "iopub.execute_input": "2024-12-23T10:40:58.511281Z",
     "iopub.status.busy": "2024-12-23T10:40:58.510938Z",
     "iopub.status.idle": "2024-12-23T10:40:58.524418Z",
     "shell.execute_reply": "2024-12-23T10:40:58.523501Z",
     "shell.execute_reply.started": "2024-12-23T10:40:58.511251Z"
    },
    "trusted": true
   },
   "outputs": [],
   "source": [
    "model.compile(loss='categorical_crossentropy', # backpropagation ve forwardpropagation için kayıp fonksiyonu\n",
    "              optimizer = Nadam(learning_rate=1e-4),  #0.0001 \n",
    "              metrics=['acc'])"
   ]
  },
  {
   "cell_type": "code",
   "execution_count": 15,
   "metadata": {
    "execution": {
     "iopub.execute_input": "2024-12-23T10:41:03.807286Z",
     "iopub.status.busy": "2024-12-23T10:41:03.806501Z",
     "iopub.status.idle": "2024-12-23T10:53:27.093571Z",
     "shell.execute_reply": "2024-12-23T10:53:27.092309Z",
     "shell.execute_reply.started": "2024-12-23T10:41:03.807253Z"
    },
    "trusted": true
   },
   "outputs": [
    {
     "name": "stdout",
     "output_type": "stream",
     "text": [
      "Epoch 1/30\n",
      "6/6 [==============================] - 114s 13s/step - loss: 2.0910 - acc: 0.2493 - val_loss: 1.3519 - val_acc: 0.5063\n",
      "\n",
      "Epoch 00001: val_acc improved from -inf to 0.50625, saving model to VGG19_Garbage_Classifier.keras\n",
      "Epoch 2/30\n",
      "6/6 [==============================] - 26s 4s/step - loss: 1.3242 - acc: 0.4835 - val_loss: 1.1544 - val_acc: 0.5500\n",
      "\n",
      "Epoch 00002: val_acc improved from 0.50625 to 0.55000, saving model to VGG19_Garbage_Classifier.keras\n",
      "Epoch 3/30\n",
      "6/6 [==============================] - 25s 4s/step - loss: 1.3001 - acc: 0.5079 - val_loss: 1.0785 - val_acc: 0.5437\n",
      "\n",
      "Epoch 00003: val_acc did not improve from 0.55000\n",
      "Epoch 4/30\n",
      "6/6 [==============================] - 25s 4s/step - loss: 1.1364 - acc: 0.5549 - val_loss: 1.2257 - val_acc: 0.5781\n",
      "\n",
      "Epoch 00004: val_acc improved from 0.55000 to 0.57812, saving model to VGG19_Garbage_Classifier.keras\n",
      "Epoch 5/30\n",
      "6/6 [==============================] - 24s 4s/step - loss: 0.9734 - acc: 0.6204 - val_loss: 0.8109 - val_acc: 0.6812\n",
      "\n",
      "Epoch 00005: val_acc improved from 0.57812 to 0.68125, saving model to VGG19_Garbage_Classifier.keras\n",
      "Epoch 6/30\n",
      "6/6 [==============================] - 25s 4s/step - loss: 0.9791 - acc: 0.6283 - val_loss: 0.7497 - val_acc: 0.7312\n",
      "\n",
      "Epoch 00006: val_acc improved from 0.68125 to 0.73125, saving model to VGG19_Garbage_Classifier.keras\n",
      "Epoch 7/30\n",
      "6/6 [==============================] - 24s 4s/step - loss: 0.7983 - acc: 0.6918 - val_loss: 0.7253 - val_acc: 0.7312\n",
      "\n",
      "Epoch 00007: val_acc did not improve from 0.73125\n",
      "Epoch 8/30\n",
      "6/6 [==============================] - 25s 4s/step - loss: 0.7699 - acc: 0.6997 - val_loss: 0.7135 - val_acc: 0.7500\n",
      "\n",
      "Epoch 00008: val_acc improved from 0.73125 to 0.75000, saving model to VGG19_Garbage_Classifier.keras\n",
      "Epoch 9/30\n",
      "6/6 [==============================] - 25s 4s/step - loss: 0.7023 - acc: 0.7370 - val_loss: 0.7231 - val_acc: 0.7437\n",
      "\n",
      "Epoch 00009: val_acc did not improve from 0.75000\n",
      "Epoch 10/30\n",
      "6/6 [==============================] - 25s 4s/step - loss: 0.7363 - acc: 0.7202 - val_loss: 0.6813 - val_acc: 0.7625\n",
      "\n",
      "Epoch 00010: val_acc improved from 0.75000 to 0.76250, saving model to VGG19_Garbage_Classifier.keras\n",
      "Epoch 11/30\n",
      "6/6 [==============================] - 26s 4s/step - loss: 0.6695 - acc: 0.7447 - val_loss: 0.6306 - val_acc: 0.7719\n",
      "\n",
      "Epoch 00011: val_acc improved from 0.76250 to 0.77188, saving model to VGG19_Garbage_Classifier.keras\n",
      "Epoch 12/30\n",
      "6/6 [==============================] - 26s 4s/step - loss: 0.6051 - acc: 0.7765 - val_loss: 0.6323 - val_acc: 0.7906\n",
      "\n",
      "Epoch 00012: val_acc improved from 0.77188 to 0.79062, saving model to VGG19_Garbage_Classifier.keras\n",
      "Epoch 13/30\n",
      "6/6 [==============================] - 25s 4s/step - loss: 0.7129 - acc: 0.7308 - val_loss: 0.6303 - val_acc: 0.7781\n",
      "\n",
      "Epoch 00013: val_acc did not improve from 0.79062\n",
      "Epoch 14/30\n",
      "6/6 [==============================] - 25s 4s/step - loss: 0.5615 - acc: 0.8040 - val_loss: 0.6154 - val_acc: 0.7812\n",
      "\n",
      "Epoch 00014: val_acc did not improve from 0.79062\n",
      "Epoch 15/30\n",
      "6/6 [==============================] - 25s 4s/step - loss: 0.5096 - acc: 0.8175 - val_loss: 0.5697 - val_acc: 0.7969\n",
      "\n",
      "Epoch 00015: val_acc improved from 0.79062 to 0.79688, saving model to VGG19_Garbage_Classifier.keras\n",
      "Epoch 16/30\n",
      "6/6 [==============================] - 25s 4s/step - loss: 0.5272 - acc: 0.8029 - val_loss: 0.5954 - val_acc: 0.7750\n",
      "\n",
      "Epoch 00016: val_acc did not improve from 0.79688\n",
      "Epoch 17/30\n",
      "6/6 [==============================] - 25s 4s/step - loss: 0.4339 - acc: 0.8452 - val_loss: 0.6436 - val_acc: 0.7812\n",
      "\n",
      "Epoch 00017: val_acc did not improve from 0.79688\n",
      "Epoch 18/30\n",
      "6/6 [==============================] - 26s 4s/step - loss: 0.4869 - acc: 0.8122 - val_loss: 0.5926 - val_acc: 0.8062\n",
      "\n",
      "Epoch 00018: val_acc improved from 0.79688 to 0.80625, saving model to VGG19_Garbage_Classifier.keras\n",
      "Epoch 19/30\n",
      "6/6 [==============================] - 25s 4s/step - loss: 0.4045 - acc: 0.8618 - val_loss: 0.6335 - val_acc: 0.7844\n",
      "\n",
      "Epoch 00019: val_acc did not improve from 0.80625\n",
      "Epoch 20/30\n",
      "6/6 [==============================] - 25s 4s/step - loss: 0.4738 - acc: 0.8175 - val_loss: 0.6621 - val_acc: 0.7656\n",
      "\n",
      "Epoch 00020: val_acc did not improve from 0.80625\n",
      "Epoch 21/30\n",
      "6/6 [==============================] - 25s 4s/step - loss: 0.4378 - acc: 0.8459 - val_loss: 0.6114 - val_acc: 0.8000\n",
      "\n",
      "Epoch 00021: val_acc did not improve from 0.80625\n",
      "Epoch 22/30\n",
      "6/6 [==============================] - 25s 4s/step - loss: 0.3670 - acc: 0.8633 - val_loss: 0.6166 - val_acc: 0.7937\n",
      "\n",
      "Epoch 00022: val_acc did not improve from 0.80625\n",
      "Epoch 23/30\n",
      "6/6 [==============================] - 24s 4s/step - loss: 0.5082 - acc: 0.8135 - val_loss: 0.5804 - val_acc: 0.7781\n",
      "\n",
      "Epoch 00023: val_acc did not improve from 0.80625\n",
      "Epoch 24/30\n",
      "6/6 [==============================] - 26s 4s/step - loss: 0.3509 - acc: 0.8770 - val_loss: 0.6121 - val_acc: 0.7906\n",
      "\n",
      "Epoch 00024: val_acc did not improve from 0.80625\n",
      "Epoch 25/30\n",
      "6/6 [==============================] - 25s 4s/step - loss: 0.3426 - acc: 0.8763 - val_loss: 0.6877 - val_acc: 0.7688\n",
      "\n",
      "Epoch 00025: val_acc did not improve from 0.80625\n",
      "Epoch 00025: early stopping\n"
     ]
    }
   ],
   "source": [
    "es = EarlyStopping(monitor='val_loss', mode='min', verbose=1, patience=10) # Eğitim sırasında modelin performansını izlenir ve doğrulama kaybı 10 epoch boyunca iyileşmezse eğitim durdurulacaktır\n",
    "mc = ModelCheckpoint('VGG19_Garbage_Classifier.keras', monitor='val_acc', mode='max', verbose=1, save_best_only=True) # Koşul sağlandığında modelin ağırlıklarını kaydeder. Bu, en iyi modelin kaydedilmesini sağlar.\n",
    "\n",
    "history = model.fit( #  Modelin eğitim süreci başlatılır.\n",
    "    train_generator,\n",
    "    steps_per_epoch = int(train_generator.samples / train_generator.batch_size),\n",
    "    epochs=30,\n",
    "    validation_data = validation_generator,\n",
    "    validation_steps = int(validation_generator.samples / validation_generator.batch_size),\n",
    "    verbose=1, # Eğitim sırasında bilgi mesajlarını ekrana yazdırır (0 = False)\n",
    "    callbacks = [es, mc],)"
   ]
  },
  {
   "cell_type": "code",
   "execution_count": 16,
   "metadata": {
    "execution": {
     "iopub.execute_input": "2024-12-23T10:53:42.861535Z",
     "iopub.status.busy": "2024-12-23T10:53:42.860501Z",
     "iopub.status.idle": "2024-12-23T10:53:47.152813Z",
     "shell.execute_reply": "2024-12-23T10:53:47.151900Z",
     "shell.execute_reply.started": "2024-12-23T10:53:42.861474Z"
    },
    "trusted": true
   },
   "outputs": [
    {
     "name": "stdout",
     "output_type": "stream",
     "text": [
      "11/11 [==============================] - 4s 377ms/step - loss: 0.6734 - acc: 0.7744\n",
      "Score Accuracy : 77.44%\n"
     ]
    }
   ],
   "source": [
    "score = model.evaluate(validation_generator,batch_size=32) # Modelin doğrulama verisi üzerinde ne kadar iyi performans gösterdiğini değerlendiriyoruz  \n",
    "print('Score Accuracy : {:.2f}%'.format(score[1]*100))"
   ]
  },
  {
   "cell_type": "code",
   "execution_count": 17,
   "metadata": {
    "execution": {
     "iopub.execute_input": "2024-12-23T10:54:23.555067Z",
     "iopub.status.busy": "2024-12-23T10:54:23.554257Z",
     "iopub.status.idle": "2024-12-23T10:54:23.961579Z",
     "shell.execute_reply": "2024-12-23T10:54:23.960555Z",
     "shell.execute_reply.started": "2024-12-23T10:54:23.555031Z"
    },
    "trusted": true
   },
   "outputs": [
    {
     "data": {
      "image/png": "[encoded data removed]",
      "text/plain": [
       "<Figure size 432x288 with 1 Axes>"
      ]
     },
     "metadata": {
      "needs_background": "light"
     },
     "output_type": "display_data"
    },
    {
     "data": {
      "image/png": "[encoded data removed]",
      "text/plain": [
       "<Figure size 432x288 with 1 Axes>"
      ]
     },
     "metadata": {
      "needs_background": "light"
     },
     "output_type": "display_data"
    }
   ],
   "source": [
    "# Accuracy ve loss değerlerini alıyoruz\n",
    "train_acc = history.history['acc'] \n",
    "val_acc = history.history['val_acc']\n",
    "train_loss = history.history['loss']\n",
    "val_loss = history.history['val_loss']\n",
    "\n",
    "epochs = range(1, len(train_acc) + 1)\n",
    "\n",
    "plt.plot(epochs, train_acc, 'b*-', label = 'Training accuracy')\n",
    "plt.plot(epochs, val_acc, 'r', label = 'Validation accuracy')\n",
    "plt.title('Training and validation accuracy')\n",
    "plt.legend()\n",
    "\n",
    "plt.figure() # Farklı bir grafik üzerinde gösteriyoruz\n",
    "\n",
    "plt.plot(epochs, train_loss, 'b*-', label = 'Training loss') # Eğitim doğruluğunu mavi renkte ve yıldız işaretleriyle çizdiriyoruz\n",
    "plt.plot(epochs, val_loss, 'r', label = 'Validation loss') # Eğitim doğruluğunu kırmızı renkte çizdiriyoruz\n",
    "plt.title('Training and validation loss')\n",
    "plt.legend()\n",
    "\n",
    "plt.show()"
   ]
  },
  {
   "cell_type": "code",
   "execution_count": 18,
   "metadata": {
    "execution": {
     "iopub.execute_input": "2024-12-23T10:54:27.585565Z",
     "iopub.status.busy": "2024-12-23T10:54:27.584845Z",
     "iopub.status.idle": "2024-12-23T10:54:29.854346Z",
     "shell.execute_reply": "2024-12-23T10:54:29.853263Z",
     "shell.execute_reply.started": "2024-12-23T10:54:27.585502Z"
    },
    "trusted": true
   },
   "outputs": [
    {
     "name": "stdout",
     "output_type": "stream",
     "text": [
      "11/11 [==============================] - 2s 176ms/step\n"
     ]
    }
   ],
   "source": [
    "pred_Y = model.predict(validation_generator, batch_size = 32, verbose = True)  # Test seti üzerinde tahmin yapılır\n",
    "pred_Y_cat = np.argmax(pred_Y, -1) # Her tahminden en yüksek olasılığa sahip olan sınıfı seçiyoruz"
   ]
  },
  {
   "cell_type": "code",
   "execution_count": 19,
   "metadata": {
    "execution": {
     "iopub.execute_input": "2024-12-23T10:54:31.422102Z",
     "iopub.status.busy": "2024-12-23T10:54:31.421767Z",
     "iopub.status.idle": "2024-12-23T10:54:40.191534Z",
     "shell.execute_reply": "2024-12-23T10:54:40.190712Z",
     "shell.execute_reply.started": "2024-12-23T10:54:31.422074Z"
    },
    "trusted": true
   },
   "outputs": [
    {
     "name": "stdout",
     "output_type": "stream",
     "text": [
      "14/14 [==============================] - 8s 601ms/step\n"
     ]
    },
    {
     "data": {
      "image/png": "[encoded data removed]",
      "text/plain": [
       "<Figure size 432x432 with 2 Axes>"
      ]
     },
     "metadata": {
      "needs_background": "light"
     },
     "output_type": "display_data"
    }
   ],
   "source": [
    "import numpy as np\n",
    "import seaborn as sns # Isı haritasi şeklinde görselleştirmek için\n",
    "import matplotlib.pyplot as plt\n",
    "from sklearn.metrics import confusion_matrix\n",
    "\n",
    "\n",
    "pred_test = model.predict(test_generator, verbose=True)   # Test seti üzerinde tahmin yapılır\n",
    "pred_test_cat = np.argmax(pred_test, axis=1)    # Her tahminden en yüksek olasılığa sahip olan sınıfı seçiyoruz\n",
    "\n",
    "true_test_labels = test_generator.classes   # Gerçek etiketlerin dizisini döndürür tahminlere karşılık gelmesi için\n",
    "\n",
    "confusion_mtx = confusion_matrix(true_test_labels, pred_test_cat)  # Gerçek etiketler ile tahmin edilen etiketler arasındaki ilişkiyi gösteren bir karışıklık matrisi\n",
    "\n",
    "f, ax = plt.subplots(figsize=(6, 6)) # Grafiğin boyutlarını ayarlar\n",
    "sns.heatmap(confusion_mtx, annot=True, linewidths=0.01, cmap=\"Reds\", linecolor=\"gray\", fmt=\".1f\", ax=ax)   # Karışıklık matrisini ısı haritası (heatmap) şeklinde görselleştiriyoruz.\n",
    "\n",
    "plt.xlabel(\"Predicted Label\")  # X,Y eksenlerinin ve grafiğin adlandırılması\n",
    "plt.ylabel(\"True Label\")\n",
    "plt.title(\"Confusion Matrix\")\n",
    "plt.show()\n"
   ]
  },
  {
   "cell_type": "code",
   "execution_count": 20,
   "metadata": {
    "execution": {
     "iopub.execute_input": "2024-12-23T10:54:43.586655Z",
     "iopub.status.busy": "2024-12-23T10:54:43.585823Z",
     "iopub.status.idle": "2024-12-23T10:54:43.592504Z",
     "shell.execute_reply": "2024-12-23T10:54:43.591570Z",
     "shell.execute_reply.started": "2024-12-23T10:54:43.586621Z"
    },
    "trusted": true
   },
   "outputs": [],
   "source": [
    "from sklearn.preprocessing import LabelBinarizer\n",
    "LABELS=[\"CARDBOARD\",\"GLASS\",\"METAL\",\"PAPER\",\"PLASTIC\",\"TRASH\"] # Etiket isimlerini belirliyoruz\n",
    "\n",
    "labels = np.array(LABELS) # LABELS listesini bir NumPy dizisine dönüştürüyoruz\n",
    "lb = LabelBinarizer() # LabelBinarizer sınıfından bir nesne oluşturuyoruz\n",
    "labels = lb.fit_transform(labels) # Bu işlem sırasında her kategoriye bir sütun atanır.  Cardboard --> [1,0,0,0,0,0]"
   ]
  },
  {
   "cell_type": "code",
   "execution_count": 22,
   "metadata": {
    "execution": {
     "iopub.execute_input": "2024-12-23T10:55:03.039199Z",
     "iopub.status.busy": "2024-12-23T10:55:03.038842Z",
     "iopub.status.idle": "2024-12-23T10:55:14.057203Z",
     "shell.execute_reply": "2024-12-23T10:55:14.056147Z",
     "shell.execute_reply.started": "2024-12-23T10:55:03.039168Z"
    },
    "trusted": true
   },
   "outputs": [
    {
     "name": "stdout",
     "output_type": "stream",
     "text": [
      "Collecting imutils\n",
      "  Downloading imutils-0.5.4.tar.gz (17 kB)\n",
      "  Preparing metadata (setup.py) ... \u001b[?25ldone\n",
      "\u001b[?25hBuilding wheels for collected packages: imutils\n",
      "  Building wheel for imutils (setup.py) ... \u001b[?25ldone\n",
      "\u001b[?25h  Created wheel for imutils: filename=imutils-0.5.4-py3-none-any.whl size=25858 sha256=0bfa3d970729a789294c0d1cf72e4b6df3aafdf4ca990e998b3370cc08c3aa09\n",
      "  Stored in directory: /root/.cache/pip/wheels/86/d7/0a/4923351ed1cec5d5e24c1eaf8905567b02a0343b24aa873df2\n",
      "Successfully built imutils\n",
      "Installing collected packages: imutils\n",
      "Successfully installed imutils-0.5.4\n",
      "\u001b[33mWARNING: Running pip as the 'root' user can result in broken permissions and conflicting behaviour with the system package manager. It is recommended to use a virtual environment instead: https://pip.pypa.io/warnings/venv\u001b[0m\u001b[33m\n",
      "\u001b[0m"
     ]
    }
   ],
   "source": [
    "!pip install imutils"
   ]
  },
  {
   "cell_type": "markdown",
   "metadata": {},
   "source": [
    "# **VGG19 Modelinin Test Edilmesi** "
   ]
  },
  {
   "cell_type": "code",
   "execution_count": 23,
   "metadata": {
    "execution": {
     "iopub.execute_input": "2024-12-23T10:55:16.003641Z",
     "iopub.status.busy": "2024-12-23T10:55:16.003232Z",
     "iopub.status.idle": "2024-12-23T10:55:16.162038Z",
     "shell.execute_reply": "2024-12-23T10:55:16.161291Z",
     "shell.execute_reply.started": "2024-12-23T10:55:16.003607Z"
    },
    "trusted": true
   },
   "outputs": [],
   "source": [
    "# Test için gereken kütüphaneleri import ediyoruz\n",
    "\n",
    "from tensorflow.keras.preprocessing.image import img_to_array\n",
    "from tensorflow.keras.models import load_model\n",
    "import numpy as np\n",
    "import mimetypes\n",
    "import argparse\n",
    "import imutils\n",
    "import pickle\n",
    "import cv2\n",
    "import os"
   ]
  },
  {
   "cell_type": "code",
   "execution_count": 27,
   "metadata": {
    "execution": {
     "iopub.execute_input": "2024-12-23T10:55:40.195434Z",
     "iopub.status.busy": "2024-12-23T10:55:40.194483Z",
     "iopub.status.idle": "2024-12-23T10:55:41.448897Z",
     "shell.execute_reply": "2024-12-23T10:55:41.447799Z",
     "shell.execute_reply.started": "2024-12-23T10:55:40.195392Z"
    },
    "trusted": true
   },
   "outputs": [
    {
     "name": "stdout",
     "output_type": "stream",
     "text": [
      "[INFO] loading object detector...\n"
     ]
    }
   ],
   "source": [
    "print(\"[INFO] loading object detector...\") \n",
    "model = load_model('./VGG19_Garbage_Classifier.keras') # Eğittimiz modelin ağırlıklarını çağırdık\n",
    "# bu ağırlığı modele verdik ve model bu ağırlığa göre test yapacak"
   ]
  },
  {
   "cell_type": "code",
   "execution_count": 31,
   "metadata": {
    "execution": {
     "iopub.execute_input": "2024-12-23T10:56:16.403376Z",
     "iopub.status.busy": "2024-12-23T10:56:16.402440Z",
     "iopub.status.idle": "2024-12-23T10:56:18.345942Z",
     "shell.execute_reply": "2024-12-23T10:56:18.345076Z",
     "shell.execute_reply.started": "2024-12-23T10:56:16.403344Z"
    },
    "trusted": true
   },
   "outputs": [
    {
     "data": {
      "image/png": "[encoded data removed]",
      "text/plain": [
       "<Figure size 1440x360 with 5 Axes>"
      ]
     },
     "metadata": {
      "needs_background": "light"
     },
     "output_type": "display_data"
    }
   ],
   "source": [
    "import os\n",
    "import random\n",
    "import matplotlib.pyplot as plt\n",
    "import cv2\n",
    "import numpy as np\n",
    "from tensorflow.keras.preprocessing.image import img_to_array\n",
    "\n",
    "# Verilen predict fonksiyonu kullanılacak\n",
    "\n",
    "def testRandom(test_dir, model, lb):\n",
    "    classes = os.listdir(test_dir)  # Klasördeki sınıf isimlerini al\n",
    "    selected_classes = random.sample(classes, 5)  # 5 rastgele sınıf seç\n",
    "\n",
    "    fig, axes = plt.subplots(1, 5, figsize=(20, 5))  # Görselleri göstermek için bir figür oluştur\n",
    "    fig.suptitle(\"Model Test Sonuçları\", fontsize=16, y=0.95)  # Başlığı biraz yukarı taşı\n",
    "\n",
    "    for i, cls in enumerate(selected_classes):\n",
    "        class_dir = os.path.join(test_dir, cls)\n",
    "        images = os.listdir(class_dir)  # Sınıfa ait görselleri al\n",
    "        selected_image = random.choice(images)  # Rastgele bir görsel seç\n",
    "        image_path = os.path.join(class_dir, selected_image)\n",
    "\n",
    "        # Test ve görselleştirme\n",
    "        try:\n",
    "            result_image = predict(image_path, model, lb)\n",
    "            axes[i].imshow(result_image)\n",
    "            axes[i].set_title(cls, fontsize=12, color='black')  # Başlık rengi eklendi\n",
    "            axes[i].axis('off')\n",
    "        except Exception as e:\n",
    "            print(f\"Hata: {e}\")\n",
    "\n",
    "    plt.tight_layout()  # Elemanlar arası boşlukları optimize et\n",
    "    plt.show()\n",
    "\n",
    "def predict(imagePath, model, lb):\n",
    " \n",
    "    image = cv2.imread(imagePath)\n",
    "    if image is None:\n",
    "        raise ValueError(\"Görsel yüklenemedi.\")\n",
    "    image = cv2.cvtColor(image, cv2.COLOR_BGR2RGB)\n",
    "    output = image.copy()\n",
    "\n",
    "    image = cv2.resize(image, (224, 224))\n",
    "    image = image.astype(\"float\") / 255.0\n",
    "    image = img_to_array(image)\n",
    "    image = np.expand_dims(image, axis=0)\n",
    "\n",
    "    proba = model.predict(image)[0]\n",
    "    idx = np.argmax(proba)\n",
    "    label = lb.classes_[idx]\n",
    "    label_text = f\"{label}: {proba[idx] * 100:.2f}%\"\n",
    "\n",
    "    cv2.putText(output, label_text, (10, 25), cv2.FONT_HERSHEY_SIMPLEX, 0.7, (255, 0, 0), 2)\n",
    "\n",
    "    return output\n",
    "path = '/kaggle/input/split-garbage-dataset/test'\n",
    "# Kullanım örneği:\n",
    "testRandom(path, model, lb)\n"
   ]
  }
 ],
 "metadata": {
  "kaggle": {
   "accelerator": "nvidiaTeslaT4",
   "dataSources": [
    {
     "datasetId": 194520,
     "sourceId": 436605,
     "sourceType": "datasetVersion"
    }
   ],
   "dockerImageVersionId": 30302,
   "isGpuEnabled": true,
   "isInternetEnabled": true,
   "language": "python",
   "sourceType": "notebook"
  },
  "kernelspec": {
   "display_name": "Python 3",
   "language": "python",
   "name": "python3"
  },
  "language_info": {
   "codemirror_mode": {
    "name": "ipython",
    "version": 3
   },
   "file_extension": ".py",
   "mimetype": "text/x-python",
   "name": "python",
   "nbconvert_exporter": "python",
   "pygments_lexer": "ipython3",
   "version": "3.7.12"
  }
 },
 "nbformat": 4,
 "nbformat_minor": 4
}
